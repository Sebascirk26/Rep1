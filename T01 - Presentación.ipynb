{
 "cells": [
  {
   "cell_type": "markdown",
   "id": "ff6b2342",
   "metadata": {},
   "source": [
    "# Presentación "
   ]
  },
  {
   "cell_type": "markdown",
   "id": "f2c0244e",
   "metadata": {},
   "source": [
    "Mi nombre es **Sebastián Daniel Cirkovic León**"
   ]
  },
  {
   "cell_type": "markdown",
   "id": "f00d4c37",
   "metadata": {},
   "source": [
    "___Tengo 20 años___\n"
   ]
  },
  {
   "cell_type": "markdown",
   "id": "6086e8bb",
   "metadata": {},
   "source": [
    "_Soy de Venezuela pero tengo 5 años viviendo en México y aquí hice toda la preparatoría y empecé la universidad_"
   ]
  },
  {
   "cell_type": "markdown",
   "id": "2b518001",
   "metadata": {},
   "source": [
    "Estudié la preparatoría en el campus sur del ITEA, donde estudié incluso en línea ya que llegó la pandemía del COVID-19.\n",
    "\n",
    "Me gradue hace 2 años y ese mismo año hice mi examén de admisión en el ITESO para estudiar ingeniería en Nanotecnología, donde fui aceptado y empecé mi primer semestre en el otoño del 2021. "
   ]
  },
  {
   "cell_type": "markdown",
   "id": "78be65f7",
   "metadata": {},
   "source": [
    "## Mis Gustos ##"
   ]
  },
  {
   "cell_type": "markdown",
   "id": "bfc1674f",
   "metadata": {},
   "source": [
    "1. Dibujar\n",
    "2. Salir con mis amigos y familia\n",
    "3. Ver series\n",
    "4. Leer libros de diversos temas\n",
    "5. Hacer deporte "
   ]
  },
  {
   "cell_type": "markdown",
   "id": "f3dbcb3a",
   "metadata": {},
   "source": [
    "## ¿Series favoritas?"
   ]
  },
  {
   "cell_type": "markdown",
   "id": "8990c3e3",
   "metadata": {},
   "source": [
    "- Stranger Things\n",
    "- The Witcher\n",
    "- The Big Bang Theory"
   ]
  },
  {
   "cell_type": "markdown",
   "id": "64f5d770",
   "metadata": {},
   "source": [
    "![](https://th.bing.com/th/id/OIP.08-rPqJvXRH_lrPUvwqv5QHaK9?pid=ImgDet&rs=1)"
   ]
  },
  {
   "cell_type": "markdown",
   "id": "d9514ca0",
   "metadata": {},
   "source": [
    "## Sobre mi carrera ##"
   ]
  },
  {
   "cell_type": "markdown",
   "id": "48941bb8",
   "metadata": {},
   "source": [
    "En nanotecnología se trabaja con nanoparticulas que están en un tamaño de 10^-9, a esta escala no hay mucho espacio para trabajar por eso desde el día uno nos enseñaron que hacer nanorobots es imposible, pero se trabaja con distintos tipos de particulas a está escala las cuáles son muy útiles: "
   ]
  },
  {
   "cell_type": "markdown",
   "id": "137ef1e7",
   "metadata": {},
   "source": [
    "- Nanoesferas\n",
    "- Nanocápsulas\n",
    "- Micelas \n",
    "- Liposomas\n",
    "- Dendrímeros"
   ]
  },
  {
   "cell_type": "markdown",
   "id": "972ec1bb",
   "metadata": {},
   "source": [
    "![](https://th.bing.com/th/id/OIP.8eObyOkNaXie8MJ9TIVW5QHaGg?pid=ImgDet&rs=1)"
   ]
  },
  {
   "cell_type": "markdown",
   "id": "10c274d6",
   "metadata": {},
   "source": [
    "## Ecuación ##"
   ]
  },
  {
   "cell_type": "markdown",
   "id": "69963789",
   "metadata": {},
   "source": [
    "$$ y =\\frac{6x^3}{\\sqrt{2x}}$$"
   ]
  }
 ],
 "metadata": {
  "kernelspec": {
   "display_name": "Python 3 (ipykernel)",
   "language": "python",
   "name": "python3"
  },
  "language_info": {
   "codemirror_mode": {
    "name": "ipython",
    "version": 3
   },
   "file_extension": ".py",
   "mimetype": "text/x-python",
   "name": "python",
   "nbconvert_exporter": "python",
   "pygments_lexer": "ipython3",
   "version": "3.11.4"
  }
 },
 "nbformat": 4,
 "nbformat_minor": 5
}
