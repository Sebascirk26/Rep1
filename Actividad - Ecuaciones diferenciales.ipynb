{
 "cells": [
  {
   "cell_type": "markdown",
   "metadata": {},
   "source": [
    "# Actividad - Ecuaciones diferenciales"
   ]
  },
  {
   "cell_type": "code",
   "execution_count": 7,
   "metadata": {},
   "outputs": [],
   "source": [
    "import matplotlib.pyplot as plt\n",
    "%matplotlib inline\n",
    "import numpy as np\n",
    "import pandas as pd \n",
    "from scipy.integrate import solve_ivp, odeint"
   ]
  },
  {
   "cell_type": "markdown",
   "metadata": {},
   "source": [
    "1. Resolver numéricamente con `solve_ivp` la siguiente ecuación diferencial:\n",
    "$$\\frac{dx}{dt}=\\frac{x}{t+1}$$"
   ]
  },
  {
   "cell_type": "code",
   "execution_count": 31,
   "metadata": {},
   "outputs": [
    {
     "data": {
      "text/plain": [
       "  message: The solver successfully reached the end of the integration interval.\n",
       "  success: True\n",
       "   status: 0\n",
       "        t: [ 0.000e+00  1.000e-06 ...  1.991e+01  2.000e+01]\n",
       "        y: [[ 0.000e+00  0.000e+00 ...  0.000e+00  0.000e+00]]\n",
       "      sol: None\n",
       " t_events: None\n",
       " y_events: None\n",
       "     nfev: 1232\n",
       "     njev: 0\n",
       "      nlu: 0"
      ]
     },
     "execution_count": 31,
     "metadata": {},
     "output_type": "execute_result"
    }
   ],
   "source": [
    "def f(t,x,r):\n",
    "    return x / (t+1)\n",
    "tspan= [0,20]\n",
    "x0=np.array([0])\n",
    "r=0.25\n",
    "\n",
    "x=solve_ivp(f,tspan,x0,args=(r,),max_step=0.1) #el paso mas grande que puede dar\n",
    "x"
   ]
  },
  {
   "cell_type": "code",
   "execution_count": 33,
   "metadata": {},
   "outputs": [
    {
     "data": {
      "image/png": "[encoded data removed]",
      "text/plain": [
       "<Figure size 300x300 with 1 Axes>"
      ]
     },
     "metadata": {},
     "output_type": "display_data"
    }
   ],
   "source": [
    "plt.figure(figsize=(3,3))\n",
    "plt.plot(x.t,x.y[0,:],label='solucion numerica',lw=5)\n",
    "plt.legend(loc='best')\n",
    "plt.grid()"
   ]
  },
  {
   "cell_type": "code",
   "execution_count": 13,
   "metadata": {},
   "outputs": [],
   "source": []
  },
  {
   "cell_type": "code",
   "execution_count": 28,
   "metadata": {},
   "outputs": [],
   "source": []
  },
  {
   "cell_type": "code",
   "execution_count": 29,
   "metadata": {},
   "outputs": [],
   "source": []
  },
  {
   "cell_type": "code",
   "execution_count": null,
   "metadata": {},
   "outputs": [],
   "source": []
  },
  {
   "cell_type": "code",
   "execution_count": null,
   "metadata": {},
   "outputs": [],
   "source": []
  },
  {
   "cell_type": "markdown",
   "metadata": {},
   "source": [
    "Grafique con condición inicial $x_0 = 2$"
   ]
  },
  {
   "cell_type": "code",
   "execution_count": 32,
   "metadata": {
    "scrolled": true
   },
   "outputs": [
    {
     "data": {
      "text/plain": [
       "  message: The solver successfully reached the end of the integration interval.\n",
       "  success: True\n",
       "   status: 0\n",
       "        t: [ 0.000e+00  1.000e-01 ...  1.990e+01  2.000e+01]\n",
       "        y: [[ 2.000e+00  2.200e+00 ...  4.180e+01  4.200e+01]]\n",
       "      sol: None\n",
       " t_events: None\n",
       " y_events: None\n",
       "     nfev: 1202\n",
       "     njev: 0\n",
       "      nlu: 0"
      ]
     },
     "execution_count": 32,
     "metadata": {},
     "output_type": "execute_result"
    }
   ],
   "source": [
    "def f(t,x,r):\n",
    "    return x / (t+1)\n",
    "tspan= [0,20]\n",
    "x0=np.array([2])\n",
    "r=2.25\n",
    "\n",
    "x=solve_ivp(f,tspan,x0,args=(r,),max_step=0.1) #el paso mas grande que puede dar\n",
    "x"
   ]
  },
  {
   "cell_type": "code",
   "execution_count": 35,
   "metadata": {},
   "outputs": [
    {
     "data": {
      "image/png": "[encoded data removed]",
      "text/plain": [
       "<Figure size 300x300 with 1 Axes>"
      ]
     },
     "metadata": {},
     "output_type": "display_data"
    }
   ],
   "source": [
    "plt.figure(figsize=(3,3))\n",
    "plt.plot(x.t,x.y[0,:],label='solucion numerica',lw=5)\n",
    "plt.legend(loc='best')\n",
    "plt.grid()"
   ]
  },
  {
   "cell_type": "code",
   "execution_count": null,
   "metadata": {},
   "outputs": [],
   "source": []
  },
  {
   "cell_type": "code",
   "execution_count": null,
   "metadata": {},
   "outputs": [],
   "source": []
  },
  {
   "cell_type": "markdown",
   "metadata": {},
   "source": [
    "2. Encuentre la solución numérica para un oscilador armónico simple:\n",
    "\n",
    "$$\n",
    "\\frac{d^2 x}{dt^2} +  \\omega_{0}^2 x = 0.\n",
    "$$\n",
    "Donde $x_0=0.5$, $\\dot{x}_0=0.1$ y $\\omega_0=3$."
   ]
  },
  {
   "cell_type": "markdown",
   "metadata": {},
   "source": []
  },
  {
   "cell_type": "markdown",
   "metadata": {},
   "source": []
  },
  {
   "cell_type": "markdown",
   "metadata": {},
   "source": [
    "2.1 Defina una función, cuyos argumentos de entrada sean:\n",
    "\n",
    "\n",
    "1. el tiempo $t$,\n",
    "2. el arreglo $[x,\\dot{x}]$.\n",
    "\n",
    "Y la salida:\n",
    "\n",
    "1. el arreglo $[\\dot{x},\\ddot{x}]$.\n",
    "\n",
    "  Considerando el argumento de la frecuencia natural $\\omega_0$ debe ser una variable global."
   ]
  },
  {
   "cell_type": "code",
   "execution_count": 39,
   "metadata": {},
   "outputs": [],
   "source": [
    "X = [0.5, 0.1]\n",
    "w0 = 3\n",
    "def oscilador(t, X):\n",
    "    x = X[0]\n",
    "    dx = X[1]\n",
    "    d2x = -w0**2 * x\n",
    "    return [dx,d2x]"
   ]
  },
  {
   "cell_type": "code",
   "execution_count": 41,
   "metadata": {},
   "outputs": [
    {
     "data": {
      "text/plain": [
       "  message: The solver successfully reached the end of the integration interval.\n",
       "  success: True\n",
       "   status: 0\n",
       "        t: [ 5.000e-01  4.585e-01  3.585e-01  2.585e-01  1.585e-01\n",
       "             1.000e-01]\n",
       "        y: [[ 5.000e-01  7.267e-01  1.787e+00  4.396e+00  1.081e+01\n",
       "              1.830e+01]]\n",
       "      sol: None\n",
       " t_events: None\n",
       " y_events: None\n",
       "     nfev: 32\n",
       "     njev: 0\n",
       "      nlu: 0"
      ]
     },
     "execution_count": 41,
     "metadata": {},
     "output_type": "execute_result"
    }
   ],
   "source": [
    "def f(t,x,r):\n",
    "    return -w0**2 * x \n",
    "tspan= [0.5,0.1]\n",
    "x0=np.array([0.5])\n",
    "r=0.25\n",
    "\n",
    "x=solve_ivp(f,tspan,x0,args=(r,),max_step=0.1) #el paso mas grande que puede dar\n",
    "x"
   ]
  },
  {
   "cell_type": "code",
   "execution_count": 48,
   "metadata": {},
   "outputs": [
    {
     "ename": "TypeError",
     "evalue": "unsupported operand type(s) for *: 'int' and 'OdeResult'",
     "output_type": "error",
     "traceback": [
      "\u001b[1;31m---------------------------------------------------------------------------\u001b[0m",
      "\u001b[1;31mTypeError\u001b[0m                                 Traceback (most recent call last)",
      "Cell \u001b[1;32mIn[48], line 13\u001b[0m\n\u001b[0;32m     11\u001b[0m v0 \u001b[38;5;241m=\u001b[39m \u001b[38;5;241m1\u001b[39m\n\u001b[0;32m     12\u001b[0m t \u001b[38;5;241m=\u001b[39m np\u001b[38;5;241m.\u001b[39mlinspace(\u001b[38;5;241m0\u001b[39m, \u001b[38;5;241m10\u001b[39m, \u001b[38;5;241m1000\u001b[39m)\n\u001b[1;32m---> 13\u001b[0m theta \u001b[38;5;241m=\u001b[39m posicion(t, w0, th0, v0)\n\u001b[0;32m     14\u001b[0m v \u001b[38;5;241m=\u001b[39m velocidad(t,w0,th0,v0)\n",
      "Cell \u001b[1;32mIn[48], line 4\u001b[0m, in \u001b[0;36mposicion\u001b[1;34m(t, w0, th0, v0)\u001b[0m\n\u001b[0;32m      3\u001b[0m \u001b[38;5;28;01mdef\u001b[39;00m \u001b[38;5;21mposicion\u001b[39m (t, w0, th0, v0):\n\u001b[1;32m----> 4\u001b[0m     \u001b[38;5;28;01mreturn\u001b[39;00m \u001b[38;5;241m-\u001b[39mw0\u001b[38;5;241m*\u001b[39m\u001b[38;5;241m*\u001b[39m\u001b[38;5;241m2\u001b[39m \u001b[38;5;241m*\u001b[39m x\n",
      "\u001b[1;31mTypeError\u001b[0m: unsupported operand type(s) for *: 'int' and 'OdeResult'"
     ]
    }
   ],
   "source": [
    "import numpy as np\n",
    "\n",
    "def posicion (t, w0, th0, v0):\n",
    "    return -w0**2 * x \n",
    "\n",
    "def velocidad(t, w0, th0, v0):\n",
    "    return -2 * w0 * x \n",
    "    \n",
    "w0 = 3\n",
    "th0 = 0\n",
    "v0 = 1\n",
    "t = np.linspace(0, 10, 1000)\n",
    "theta = posicion(t, w0, th0, v0)\n",
    "v = velocidad(t,w0,th0,v0)"
   ]
  },
  {
   "cell_type": "markdown",
   "metadata": {},
   "source": [
    "Grafique"
   ]
  },
  {
   "cell_type": "code",
   "execution_count": null,
   "metadata": {},
   "outputs": [],
   "source": []
  },
  {
   "cell_type": "code",
   "execution_count": 46,
   "metadata": {},
   "outputs": [
    {
     "ename": "NameError",
     "evalue": "name 'th0' is not defined",
     "output_type": "error",
     "traceback": [
      "\u001b[1;31m---------------------------------------------------------------------------\u001b[0m",
      "\u001b[1;31mNameError\u001b[0m                                 Traceback (most recent call last)",
      "Cell \u001b[1;32mIn[46], line 3\u001b[0m\n\u001b[0;32m      1\u001b[0m \u001b[38;5;28;01mimport\u001b[39;00m \u001b[38;5;21;01mmatplotlib\u001b[39;00m\u001b[38;5;21;01m.\u001b[39;00m\u001b[38;5;21;01mpyplot\u001b[39;00m \u001b[38;5;28;01mas\u001b[39;00m \u001b[38;5;21;01mplt\u001b[39;00m\n\u001b[0;32m      2\u001b[0m get_ipython()\u001b[38;5;241m.\u001b[39mrun_line_magic(\u001b[38;5;124m'\u001b[39m\u001b[38;5;124mmatplotlib\u001b[39m\u001b[38;5;124m'\u001b[39m, \u001b[38;5;124m'\u001b[39m\u001b[38;5;124minline\u001b[39m\u001b[38;5;124m'\u001b[39m)\n\u001b[1;32m----> 3\u001b[0m theta \u001b[38;5;241m=\u001b[39m posicion(t, w0, th0, v0)\n\u001b[0;32m      4\u001b[0m plt\u001b[38;5;241m.\u001b[39mfigure()\n\u001b[0;32m      5\u001b[0m plt\u001b[38;5;241m.\u001b[39mplot(theta, v)\n",
      "\u001b[1;31mNameError\u001b[0m: name 'th0' is not defined"
     ]
    }
   ],
   "source": [
    "import matplotlib.pyplot as plt\n",
    "%matplotlib inline\n",
    "theta = posicion(t, w0, th0, v0)\n",
    "plt.figure()\n",
    "plt.plot(theta, v)"
   ]
  },
  {
   "cell_type": "code",
   "execution_count": null,
   "metadata": {},
   "outputs": [],
   "source": []
  },
  {
   "cell_type": "markdown",
   "metadata": {},
   "source": [
    "Asigne a los parámetros de la solución analítica $C_1=x_0$ y $C_2=\\frac{\\dot{x}_0}{\\omega_0}$."
   ]
  },
  {
   "cell_type": "code",
   "execution_count": null,
   "metadata": {},
   "outputs": [],
   "source": []
  },
  {
   "cell_type": "code",
   "execution_count": null,
   "metadata": {},
   "outputs": [],
   "source": []
  },
  {
   "cell_type": "code",
   "execution_count": null,
   "metadata": {},
   "outputs": [],
   "source": []
  },
  {
   "cell_type": "markdown",
   "metadata": {},
   "source": [
    "Redefina la función para graficarla (con la palabra reservada ***def***) en un intervalo de tiempo de 0 a 10 segundos. Comparela en un mismo grafico con la solución numérica obtenida."
   ]
  },
  {
   "cell_type": "code",
   "execution_count": null,
   "metadata": {},
   "outputs": [],
   "source": []
  },
  {
   "cell_type": "code",
   "execution_count": null,
   "metadata": {},
   "outputs": [],
   "source": []
  },
  {
   "cell_type": "code",
   "execution_count": null,
   "metadata": {},
   "outputs": [],
   "source": []
  }
 ],
 "metadata": {
  "kernelspec": {
   "display_name": "Python 3 (ipykernel)",
   "language": "python",
   "name": "python3"
  },
  "language_info": {
   "codemirror_mode": {
    "name": "ipython",
    "version": 3
   },
   "file_extension": ".py",
   "mimetype": "text/x-python",
   "name": "python",
   "nbconvert_exporter": "python",
   "pygments_lexer": "ipython3",
   "version": "3.11.4"
  }
 },
 "nbformat": 4,
 "nbformat_minor": 2
}
