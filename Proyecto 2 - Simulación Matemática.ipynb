{
 "cells": [
  {
   "cell_type": "markdown",
   "id": "c94db1b9",
   "metadata": {},
   "source": [
    "## Proyecto 2 Simulación Matematica ## "
   ]
  },
  {
   "cell_type": "markdown",
   "id": "ed9ed33d",
   "metadata": {},
   "source": [
    "Para este proyecto mostramos como los fractales nos permiten explicar las formas de algunas estructuras, como las estructuras de acero bajo de carbono."
   ]
  },
  {
   "cell_type": "code",
   "execution_count": 4,
   "id": "85a87571",
   "metadata": {},
   "outputs": [],
   "source": [
    "import turtle\n",
    "import numpy as np"
   ]
  },
  {
   "cell_type": "code",
   "execution_count": 5,
   "id": "2fc59f36",
   "metadata": {},
   "outputs": [],
   "source": [
    "window = turtle.Screen()\n",
    "window.bgcolor(\"black\")\n",
    "window.title(\"Fractal de los anillos de Saturno\")\n"
   ]
  },
  {
   "cell_type": "code",
   "execution_count": 6,
   "id": "3ef707d6",
   "metadata": {},
   "outputs": [],
   "source": [
    "def draw_fractal(size):\n",
    "    if size < 1:\n",
    "        return\n",
    "    else:\n",
    "        turtle.forward(size)\n",
    "        turtle.right(120*np.pi)\n",
    "        draw_fractal(size / 2)\n",
    "        turtle.right(120*np.pi)\n",
    "        draw_fractal(size / 2)\n",
    "        turtle.right(120*np.pi)\n",
    "        draw_fractal(size / 2)\n",
    "        turtle.right(120*np.pi)\n",
    "        turtle.forward(size)"
   ]
  },
  {
   "cell_type": "code",
   "execution_count": null,
   "id": "93edb1f5",
   "metadata": {},
   "outputs": [],
   "source": [
    "turtle.penup()\n",
    "turtle.goto(-100, 0)\n",
    "turtle.pendown()\n",
    "turtle.color(\"white\")\n",
    "draw_fractal(200)"
   ]
  },
  {
   "cell_type": "code",
   "execution_count": null,
   "id": "ae8fe6a7",
   "metadata": {},
   "outputs": [],
   "source": [
    "turtle.done()"
   ]
  },
  {
   "cell_type": "code",
   "execution_count": null,
   "id": "cc6a843c",
   "metadata": {},
   "outputs": [],
   "source": []
  },
  {
   "cell_type": "markdown",
   "id": "04c8fd10",
   "metadata": {},
   "source": [
    "## Para que se usa la función \"turtle\" ##"
   ]
  },
  {
   "cell_type": "markdown",
   "id": "f43afdaa",
   "metadata": {},
   "source": [
    "La biblioteca Turtle es una biblioteca de Python que se utiliza principalmente para la creación de gráficos y animaciones en 2D. Permite a los usuarios dibujar utilizando un lienzo virtual y una \"tortuga\" que se mueve en ese lienzo, lo que facilita la creación de figuras geométricas simples, patrones y diseños.\n",
    "\n",
    "La biblioteca Turtle es especialmente útil para aquellos que están aprendiendo programación y desean llevar a cabo ejercicios prácticos y visuales. Ayuda a comprender conceptos como bucles, condicionales y funciones de manera más interactiva y divertida.\n",
    "\n",
    "Algunas de las funciones y características de la biblioteca Turtle incluyen:\n",
    "\n",
    "1. Dibujo de líneas rectas y curvas.\n",
    "2. Dibujo de figuras geométricas como círculos, triángulos y cuadrados.\n",
    "3. Control de color y grosor de línea.\n",
    "4. Rellenar figuras con colores y patrones.\n",
    "5. Movimiento de la \"tortuga\" hacia adelante, hacia atrás, girando a la izquierda o la derecha.\n",
    "6. Creación de animaciones mediante el uso de bucles y condicionales.\n",
    "\n",
    "En resumen, la biblioteca Turtle es una herramienta útil para aquellos que están aprendiendo a programar y desean visualizar sus resultados de manera gráfica y interactiva. Es un recurso educativo eficaz para enseñar programación a estudiantes de una manera más atractiva."
   ]
  },
  {
   "cell_type": "markdown",
   "id": "bbad34bb",
   "metadata": {},
   "source": []
  }
 ],
 "metadata": {
  "kernelspec": {
   "display_name": "Python 3 (ipykernel)",
   "language": "python",
   "name": "python3"
  },
  "language_info": {
   "codemirror_mode": {
    "name": "ipython",
    "version": 3
   },
   "file_extension": ".py",
   "mimetype": "text/x-python",
   "name": "python",
   "nbconvert_exporter": "python",
   "pygments_lexer": "ipython3",
   "version": "3.11.4"
  }
 },
 "nbformat": 4,
 "nbformat_minor": 5
}
