{
 "cells": [
  {
   "cell_type": "markdown",
   "id": "1e2823cf",
   "metadata": {},
   "source": [
    "# Examen A Módulo 1 - Optimización.\n",
    "\n",
    "**Lea cuidadosamente las siguientes indicaciones antes de comenzar el examen:**\n",
    "- Para resolver el examen edite este mismo archivo y renómbrelo de la siguiente manera: *Examen1_ApellidoNombre*, donde *ApellidoNombre* corresponde a su apellido paterno con la inicial en mayúscula, seguido de su primer nombre con la inicial en mayúscula **sin acentos**. Por ejemplo, en mi caso el nombre del archivo sería *Examen1_MoralesGabriel*.\n",
    "- Resuelva los puntos en el espacio provisto. Si requiere agregar más celdas para código o escritura, hágalo (`Esc`,`B`) o (`Esc`,`A`).\n",
    "- Recuerde que también se está evaluando su capacidad de interpretar los resultados. Escriba sus interpretaciones/conclusiones en celdas utilizando *Markdown*.\n",
    "- El formato de presentación de todo el examen en general debe ser adecuado. Use tamaños de letra, colores, etiquetas, etcétera.\n",
    "- No se resuelven dudas de ningún tipo por los profesores de la asignatura. Por favor, absténgase de preguntar.\n",
    "- Revise bien el tipo de examen. Sólo se le calificará si realiza el tipo de examen asignado."
   ]
  },
  {
   "cell_type": "code",
   "execution_count": 1,
   "id": "7fd3d4ce",
   "metadata": {},
   "outputs": [],
   "source": [
    "import numpy as np\n",
    "import pandas as pd\n",
    "import matplotlib.pyplot as plt"
   ]
  },
  {
   "cell_type": "markdown",
   "id": "53712a36",
   "metadata": {},
   "source": [
    "---\n",
    "# Primer punto. Optimización de funciones con `SymPy` (37 puntos)\n",
    "\n",
    "**Costo mínimo**. Imagine dos contenedores cilíndricos sin tapa que deben satisfacer las siguientes condiciones:\n",
    "\n",
    "- El primer contenedor tiene el doble de altura que el segundo.\n",
    "- La altura del primer contenedor (el de mayor tamaño) es el doble de su radio.\n",
    "- El material para la base cuesta 10.00 MXN por cada $m^2$.\n",
    "- El material para los lados cuesta 6.00 MXN por cada $m^2$.\n",
    "\n",
    "¿Cuál es el costo del contenedor más barato?\n"
   ]
  },
  {
   "cell_type": "markdown",
   "id": "9913d3d8",
   "metadata": {},
   "source": [
    "1. Escriba el volumen $V_1(r_1)$ y $V_2(r_2, r_1)$ de ambos contenedores como dos funciones distintas, donde $r_1$ es el radio del primer contenedor y $r_2$ es el radio del segundo. Realice este punto usando $\\LaTeX$ y celdas *Markdown*."
   ]
  },
  {
   "cell_type": "markdown",
   "id": "a387e2cb",
   "metadata": {},
   "source": [
    "$$ V_1(r1)= \\pi r^2_1(2r_1)= 2 $$"
   ]
  },
  {
   "cell_type": "markdown",
   "id": "741758e5",
   "metadata": {},
   "source": [
    "$$ V_2(r_1,r_2)=\\pi r^2_2 r_1 $$"
   ]
  },
  {
   "cell_type": "markdown",
   "id": "44e2ece6",
   "metadata": {},
   "source": []
  },
  {
   "cell_type": "markdown",
   "id": "ee04a16b",
   "metadata": {},
   "source": [
    "2. Escriba el costo **C** de fabricar ambos contenedores como una función de los radios de las bases. Realice este punto usando $\\LaTeX$ y celdas *Markdown*."
   ]
  },
  {
   "cell_type": "markdown",
   "id": "fed271d9",
   "metadata": {},
   "source": [
    "$$ C_1= 10 \\pi r^2_1 + 6(2 \\pi r_1 (2r_1) = 10 \\pi r^2_1 + 24 \\pi r^2_1 $$"
   ]
  },
  {
   "cell_type": "markdown",
   "id": "e1d653a4",
   "metadata": {},
   "source": [
    "$$ C_2= 10 \\pi r^2_2 + 6(2 \\pi r_2 (2r_1) = 10 \\pi r^2_2 + 12 \\pi r_1r_2 $$"
   ]
  },
  {
   "cell_type": "markdown",
   "id": "d0ed3f7f",
   "metadata": {},
   "source": [
    "$$ C_x = 10 \\pi r^2_1 + 10 \\pi r^2_2 + 24 \\pi r^2_1 + 12 \\pi r_1r_2 $$"
   ]
  },
  {
   "cell_type": "markdown",
   "id": "a1e58696",
   "metadata": {},
   "source": [
    "3. Determina las dimensiones de los contenedores si el volumen del contenedor pequeño debe ser de $12m^3$ y el costo debe ser mínimo."
   ]
  },
  {
   "cell_type": "code",
   "execution_count": 2,
   "id": "f4a7593c",
   "metadata": {},
   "outputs": [
    {
     "data": {
      "text/latex": [
       "$\\displaystyle \\frac{12}{\\pi y^{2}}$"
      ],
      "text/plain": [
       "12/(pi*y**2)"
      ]
     },
     "execution_count": 2,
     "metadata": {},
     "output_type": "execute_result"
    }
   ],
   "source": [
    "import sympy as sp\n",
    "import numpy as np\n",
    "import matplotlib.pyplot as plt\n",
    "%matplotlib inline\n",
    "\n",
    "sp.var(\"x\")\n",
    "sp.var(\"y\")\n",
    "\n",
    "v2 = sp.pi * y**2 * x - 12\n",
    "\n",
    "xdesp = sp.solve(v2, x)[0]\n",
    "xdesp"
   ]
  },
  {
   "cell_type": "code",
   "execution_count": 3,
   "id": "d73359e2",
   "metadata": {},
   "outputs": [
    {
     "data": {
      "text/latex": [
       "$\\displaystyle 10 \\pi y^{2} + \\frac{144}{y} + \\frac{4896}{\\pi y^{4}}$"
      ],
      "text/plain": [
       "10*pi*y**2 + 144/y + 4896/(pi*y**4)"
      ]
     },
     "execution_count": 3,
     "metadata": {},
     "output_type": "execute_result"
    }
   ],
   "source": [
    "ct = (10 * sp.pi * x**2) + (10 * sp.pi * y**2) + (24 * sp.pi * x**2) + (12 * sp.pi * x * y)\n",
    "\n",
    "ct_remp = ct.subs(x, xdesp)\n",
    "ct_remp"
   ]
  },
  {
   "cell_type": "code",
   "execution_count": 4,
   "id": "28ac84fc",
   "metadata": {},
   "outputs": [
    {
     "data": {
      "text/latex": [
       "$\\displaystyle 20 \\pi y - \\frac{144}{y^{2}} - \\frac{19584}{\\pi y^{5}}$"
      ],
      "text/plain": [
       "20*pi*y - 144/y**2 - 19584/(pi*y**5)"
      ]
     },
     "execution_count": 4,
     "metadata": {},
     "output_type": "execute_result"
    }
   ],
   "source": [
    "def ct(y):\n",
    "    return (10 * sp.pi * y**2) + (144 / y) + (4896 / (sp.pi * y**4))\n",
    "\n",
    "dct = sp.diff(ct(y), y)\n",
    "dct"
   ]
  },
  {
   "cell_type": "code",
   "execution_count": 5,
   "id": "2cfa301c",
   "metadata": {},
   "outputs": [
    {
     "data": {
      "text/plain": [
       "6"
      ]
     },
     "execution_count": 5,
     "metadata": {},
     "output_type": "execute_result"
    }
   ],
   "source": [
    "pc = sp.solve(dct, y)\n",
    "\n",
    "len(pc)"
   ]
  },
  {
   "cell_type": "code",
   "execution_count": 6,
   "id": "d7f88ab7",
   "metadata": {},
   "outputs": [
    {
     "data": {
      "text/latex": [
       "$\\displaystyle - \\frac{5^{\\frac{2}{3}} \\sqrt[3]{-18 + 6 \\sqrt{689}}}{5 \\sqrt[3]{\\pi}}$"
      ],
      "text/plain": [
       "-5**(2/3)*(-18 + 6*sqrt(689))**(1/3)/(5*pi**(1/3))"
      ]
     },
     "execution_count": 6,
     "metadata": {},
     "output_type": "execute_result"
    }
   ],
   "source": [
    "pc[0]"
   ]
  },
  {
   "cell_type": "code",
   "execution_count": 7,
   "id": "d37968a5",
   "metadata": {},
   "outputs": [
    {
     "data": {
      "text/latex": [
       "$\\displaystyle \\frac{5^{\\frac{2}{3}} \\sqrt[3]{18 + 6 \\sqrt{689}}}{5 \\sqrt[3]{\\pi}}$"
      ],
      "text/plain": [
       "5**(2/3)*(18 + 6*sqrt(689))**(1/3)/(5*pi**(1/3))"
      ]
     },
     "execution_count": 7,
     "metadata": {},
     "output_type": "execute_result"
    }
   ],
   "source": [
    "pc[1]"
   ]
  },
  {
   "cell_type": "code",
   "execution_count": 8,
   "id": "02321520",
   "metadata": {},
   "outputs": [
    {
     "data": {
      "text/latex": [
       "$\\displaystyle \\frac{5^{\\frac{2}{3}} \\sqrt[3]{-18 + 6 \\sqrt{689}}}{10 \\sqrt[3]{\\pi}} - \\frac{\\sqrt{3} \\cdot 5^{\\frac{2}{3}} i \\sqrt[3]{-18 + 6 \\sqrt{689}}}{10 \\sqrt[3]{\\pi}}$"
      ],
      "text/plain": [
       "5**(2/3)*(-18 + 6*sqrt(689))**(1/3)/(10*pi**(1/3)) - sqrt(3)*5**(2/3)*I*(-18 + 6*sqrt(689))**(1/3)/(10*pi**(1/3))"
      ]
     },
     "execution_count": 8,
     "metadata": {},
     "output_type": "execute_result"
    }
   ],
   "source": [
    "pc[2]"
   ]
  },
  {
   "cell_type": "code",
   "execution_count": 9,
   "id": "ab5843c3",
   "metadata": {},
   "outputs": [
    {
     "data": {
      "text/latex": [
       "$\\displaystyle \\frac{5^{\\frac{2}{3}} \\sqrt[3]{-18 + 6 \\sqrt{689}}}{10 \\sqrt[3]{\\pi}} + \\frac{\\sqrt{3} \\cdot 5^{\\frac{2}{3}} i \\sqrt[3]{-18 + 6 \\sqrt{689}}}{10 \\sqrt[3]{\\pi}}$"
      ],
      "text/plain": [
       "5**(2/3)*(-18 + 6*sqrt(689))**(1/3)/(10*pi**(1/3)) + sqrt(3)*5**(2/3)*I*(-18 + 6*sqrt(689))**(1/3)/(10*pi**(1/3))"
      ]
     },
     "execution_count": 9,
     "metadata": {},
     "output_type": "execute_result"
    }
   ],
   "source": [
    "pc[3]"
   ]
  },
  {
   "cell_type": "code",
   "execution_count": 10,
   "id": "6c60685a",
   "metadata": {},
   "outputs": [
    {
     "data": {
      "text/latex": [
       "$\\displaystyle - \\frac{5^{\\frac{2}{3}} \\sqrt[3]{18 + 6 \\sqrt{689}}}{10 \\sqrt[3]{\\pi}} - \\frac{\\sqrt{3} \\cdot 5^{\\frac{2}{3}} i \\sqrt[3]{18 + 6 \\sqrt{689}}}{10 \\sqrt[3]{\\pi}}$"
      ],
      "text/plain": [
       "-5**(2/3)*(18 + 6*sqrt(689))**(1/3)/(10*pi**(1/3)) - sqrt(3)*5**(2/3)*I*(18 + 6*sqrt(689))**(1/3)/(10*pi**(1/3))"
      ]
     },
     "execution_count": 10,
     "metadata": {},
     "output_type": "execute_result"
    }
   ],
   "source": [
    "pc[4]"
   ]
  },
  {
   "cell_type": "code",
   "execution_count": 11,
   "id": "60981b95",
   "metadata": {},
   "outputs": [
    {
     "data": {
      "text/latex": [
       "$\\displaystyle - \\frac{5^{\\frac{2}{3}} \\sqrt[3]{18 + 6 \\sqrt{689}}}{10 \\sqrt[3]{\\pi}} + \\frac{\\sqrt{3} \\cdot 5^{\\frac{2}{3}} i \\sqrt[3]{18 + 6 \\sqrt{689}}}{10 \\sqrt[3]{\\pi}}$"
      ],
      "text/plain": [
       "-5**(2/3)*(18 + 6*sqrt(689))**(1/3)/(10*pi**(1/3)) + sqrt(3)*5**(2/3)*I*(18 + 6*sqrt(689))**(1/3)/(10*pi**(1/3))"
      ]
     },
     "execution_count": 11,
     "metadata": {},
     "output_type": "execute_result"
    }
   ],
   "source": [
    "pc[5]"
   ]
  },
  {
   "cell_type": "markdown",
   "id": "d9986b64",
   "metadata": {},
   "source": [
    "El que sirve"
   ]
  },
  {
   "cell_type": "code",
   "execution_count": 13,
   "id": "4bef7583",
   "metadata": {},
   "outputs": [
    {
     "data": {
      "text/latex": [
       "$\\displaystyle \\frac{5^{\\frac{2}{3}} \\sqrt[3]{18 + 6 \\sqrt{689}}}{5 \\sqrt[3]{\\pi}}$"
      ],
      "text/plain": [
       "5**(2/3)*(18 + 6*sqrt(689))**(1/3)/(5*pi**(1/3))"
      ]
     },
     "execution_count": 13,
     "metadata": {},
     "output_type": "execute_result"
    }
   ],
   "source": [
    "pc[1]"
   ]
  },
  {
   "cell_type": "code",
   "execution_count": 14,
   "id": "3ecab9ec",
   "metadata": {},
   "outputs": [
    {
     "name": "stdout",
     "output_type": "stream",
     "text": [
      "La medida de r2 es:  2.235526671726874\n"
     ]
    }
   ],
   "source": [
    "print(\"La medida de r2 es: \", float(pc[1]))"
   ]
  },
  {
   "cell_type": "code",
   "execution_count": 15,
   "id": "cc7b0cc8",
   "metadata": {},
   "outputs": [
    {
     "name": "stdout",
     "output_type": "stream",
     "text": [
      "La medida de r1 es:  0.7643137311179903\n"
     ]
    }
   ],
   "source": [
    "print(\"La medida de r1 es: \", float(xdesp.subs(y, pc[1])))"
   ]
  },
  {
   "cell_type": "code",
   "execution_count": 16,
   "id": "08b13782",
   "metadata": {},
   "outputs": [
    {
     "name": "stdout",
     "output_type": "stream",
     "text": [
      "El costo total de fabricar los contenedores es de:\n",
      " $ 283.8161489938861\n"
     ]
    }
   ],
   "source": [
    "print(\"El costo total de fabricar los contenedores es de:\\n $\", float(ct_remp.subs(y, pc[1])))"
   ]
  },
  {
   "cell_type": "code",
   "execution_count": null,
   "id": "66da194d",
   "metadata": {},
   "outputs": [],
   "source": []
  },
  {
   "cell_type": "markdown",
   "id": "fec1be1e",
   "metadata": {},
   "source": [
    "3. ¿Cuál fue el costo de fabricar este par de contenedores?"
   ]
  },
  {
   "cell_type": "code",
   "execution_count": null,
   "id": "3da98dd3",
   "metadata": {},
   "outputs": [],
   "source": []
  },
  {
   "cell_type": "code",
   "execution_count": null,
   "id": "8cd979f9",
   "metadata": {},
   "outputs": [],
   "source": []
  },
  {
   "cell_type": "code",
   "execution_count": null,
   "id": "06662bea",
   "metadata": {},
   "outputs": [],
   "source": []
  },
  {
   "cell_type": "markdown",
   "id": "4eeff9c8",
   "metadata": {},
   "source": [
    "---\n",
    "# Segundo punto. Programación lineal (37 puntos)"
   ]
  },
  {
   "cell_type": "markdown",
   "id": "8013ca31",
   "metadata": {},
   "source": [
    "Una empresa se dedica a fabricar tarjetas de control para automóviles, y están en su momento de planeación de compras anuales. Hay 5 proveedores que pueden proveer los componentes, cada uno a su propio precio."
   ]
  },
  {
   "cell_type": "markdown",
   "id": "f41253d2",
   "metadata": {},
   "source": [
    "<table>\n",
    "  <tr>\n",
    "      <th>  </th>\n",
    "      <th>Proveedor 1</th>\n",
    "      <th>Proveedor 2</th>\n",
    "      <th>Proveedor 3</th>\n",
    "      <th>Demanda</th>\n",
    "  </tr>\n",
    "  <tr>\n",
    "      <th>Componente 1</th>\n",
    "      <td>0.5</td>\n",
    "      <td>0.6</td>\n",
    "      <td>0.7</td>\n",
    "      <td>15000</td>\n",
    "  </tr>\n",
    "  <tr style=\"border-bottom: 1px solid #000;\">\n",
    "      <th>Componente 2</th>\n",
    "      <td>0.7</td>\n",
    "      <td>0.5</td>\n",
    "      <td>0.6</td>\n",
    "      <td>20000</td>\n",
    "  </tr>\n",
    "  <tr style=\"border-bottom: 1px solid #000;\">\n",
    "      <th>Componente 3</th>\n",
    "      <td>0.32</td>\n",
    "      <td>0.54</td>\n",
    "      <td>0.8</td>\n",
    "      <td>12000</td>\n",
    "  </tr>\n",
    "\n",
    "  <tr style=\"border-bottom: 1px solid #000;\">\n",
    "      <th>Capacidad</th>\n",
    "      <td> 21000 </td>\n",
    "      <td> 16000 </td>\n",
    "      <td> 16000 </td>\n",
    "      <td>  </td>\n",
    "  </tr>\n",
    "</table>"
   ]
  },
  {
   "cell_type": "markdown",
   "id": "48d6c967",
   "metadata": {},
   "source": [
    "El proveedor tiene restricciones de capacidad de fabricación del tipo de componentes, por lo que un proveedor no puede satisfacer nuestra demanda completa para cada componente."
   ]
  },
  {
   "cell_type": "markdown",
   "id": "85e307ae",
   "metadata": {},
   "source": [
    "Se desea conocer la cantidad que se debe comprar de cada componente a cada proveedor para gastar la menor cantidad de dinero posible, pero al mismo tiempo lograr satisfacer la demanda para poder continuar con la manufactura del producto."
   ]
  },
  {
   "cell_type": "markdown",
   "id": "df55a736",
   "metadata": {},
   "source": [
    "1. Escriba la función a **minimizar** junto con las restricciones, explicando detalladamente cada paso (usando fórmulas en $\\LaTeX$, en celdas Markdown). Además escriba el problema en la forma \\begin{equation}\n",
    "\\begin{array}{ll}\n",
    "\\min_{\\boldsymbol{x}} & \\boldsymbol{c}^T\\boldsymbol{x} \\\\\n",
    "\\text{s. a. }        & \\boldsymbol{A}_{eq}\\boldsymbol{x}=\\boldsymbol{b}_{eq} \\\\\n",
    "                     & \\boldsymbol{A}\\boldsymbol{x}\\leq\\boldsymbol{b},\n",
    "\\end{array}\\qquad\\text{(23 puntos)}\n",
    "\\end{equation}"
   ]
  },
  {
   "cell_type": "markdown",
   "id": "04ce36d6",
   "metadata": {},
   "source": [
    "#### Componente 1 #### \n",
    "\n",
    "$ 0.5x1 + 0.6x2 + 0.7x3 +0x4 + 0x5 + 0x6 + 0x7 + 0x8 + 0x9 \\geq 15000 $\n",
    "\n",
    "#### Componente 2 #### \n",
    "\n",
    "$ 0x1 + 0x2 + 0x3 +0.7x4 + 0.5x5 + 0.6x6 + 0x7 + 0x8 + 0x9 \\geq 20000 $\n",
    "\n",
    "#### Componente 3 #### \n",
    "\n",
    "$ 0x1 + 0x2 + 0x3 +0x4 + 0x5 + 0x6 + 0.32x7 + 0.54x8 + 0.8x9 \\geq 12000 $\n",
    "\n",
    "#### Proveedor 1 #### \n",
    "\n",
    "$ 0.5x1 + 0x2 + 0x3 +0.7x4 + 0x5 + 0x6 + 0.32x7 + 0x8 + 0x9 \\leq 21000 $\n",
    "\n",
    "#### Proveedor 2 #### \n",
    "\n",
    "$ 0x1 + 0.6x2 + 0x3 +0x4 + 0.5x5 + 0x6 + 0x7 + 0.54x8 + 0x9 \\leq 16000 $\n",
    "\n",
    "#### Proveedor 3 #### \n",
    "\n",
    "$ 0x1 + 0x2 + 0.7x3 +0x4 + 0x5 + 0.6x6 + 0x7 + 0x8 + 0.8x9 \\leq 16000 $"
   ]
  },
  {
   "cell_type": "markdown",
   "id": "d4c96539",
   "metadata": {},
   "source": [
    "#### La función objetivo será: ####\n",
    "$$\\min_{x_1,\\dots,x_6}0.5x_1 + 0.6x_2 + 0.7x_3 + 0.7x_4 + 0.5x_5 + 0.6x_6 + 0.32x_7 + 0.54x_8 + 0.8x_9$$"
   ]
  },
  {
   "cell_type": "markdown",
   "id": "4f8863ce",
   "metadata": {},
   "source": [
    "#### Función de costos\n",
    "$ C= 0.5x_1 + 0.6x_2 + 0.7x_3 + 0.7x_4 + 0.5x_5 + 0.6x_6 + 0.32x_7 + 0.54x_8 + 0.8x_9 = 15000 + 20000 + 12000 $"
   ]
  },
  {
   "cell_type": "markdown",
   "id": "6c1e3c9a",
   "metadata": {},
   "source": [
    "2. Resuelva el problema utilizando la función `linprog`. ¿Cómo debe ser la distribución de compras? ¿Cuánto dinero se necesita para satisfacer la demanda? (10 puntos)"
   ]
  },
  {
   "cell_type": "code",
   "execution_count": 19,
   "id": "8f155780",
   "metadata": {},
   "outputs": [
    {
     "name": "stdout",
     "output_type": "stream",
     "text": [
      "Costo mínimo total: 47000.0\n",
      "Compra óptima de componentes \n",
      " [30000.             0.             0.         28571.42857143\n",
      "     0.             0.         37500.             0.\n",
      "     0.        ]\n"
     ]
    }
   ],
   "source": [
    "import scipy.optimize as opt\n",
    "import numpy as np\n",
    "c = np.array([0.5,0.6,0.7,0.7,0.5,0.6,0.32,0.54,0.8])\n",
    "Aub = np.array([\n",
    "    [-0.5, -0.6, -0.7, -0, -0, -0, -0, -0, -0],\n",
    "    [-0, -0, -0, -0.7, -0.5, -0.6, -0, -0, -0],\n",
    "    [-0, -0, -0, -0, -0, -0, -0.32, -0.54, -0.8],\n",
    "    [-0.5, -0, -0, -0.7, -0, -0, -0.32, -0, -0],\n",
    "    [-0, -0.6, -0, -0, -0.5, -0, -0, -0.54, -0],\n",
    "    [-0, -0, -0.7, -0, -0, -0.6, -0, -0, -0.8],\n",
    "])\n",
    "bub = np.array([\n",
    "    -15000,\n",
    "    -20000,\n",
    "    -12000,\n",
    "    21000,\n",
    "    16000,\n",
    "    16000,\n",
    "])\n",
    "sol = opt.linprog(c, Aub, bub)\n",
    "print(\"Costo mínimo total:\", sol.fun)\n",
    "print(\"Compra óptima de componentes\", \"\\n\", sol.x)"
   ]
  },
  {
   "cell_type": "code",
   "execution_count": null,
   "id": "5fbc9ece",
   "metadata": {},
   "outputs": [],
   "source": []
  },
  {
   "cell_type": "code",
   "execution_count": null,
   "id": "e457259e",
   "metadata": {},
   "outputs": [],
   "source": []
  },
  {
   "cell_type": "markdown",
   "id": "5663a48b",
   "metadata": {},
   "source": [
    "# Tercer punto. Ajuste de curvas (36 puntos)\n",
    "\n",
    "Utiliza el archivo adjunto en Canvas en el apartado que corresponde al examen."
   ]
  },
  {
   "cell_type": "markdown",
   "id": "c673e9e6",
   "metadata": {},
   "source": [
    "Escribe tu número de expediente: "
   ]
  },
  {
   "cell_type": "markdown",
   "id": "da3c6c2e",
   "metadata": {},
   "source": [
    "Lee el archivo y extrae la siguiente información:\n",
    "- $x$ es la primer columna del archivo\n",
    "- $y$ es la columna correspondiente a los últimos dos dígitos de tu número de expediente + 1. E.g. mi expediente es $693871$; por lo tanto, debo usar la columna $72$."
   ]
  },
  {
   "cell_type": "code",
   "execution_count": 20,
   "id": "46fbbaf5",
   "metadata": {},
   "outputs": [
    {
     "data": {
      "text/html": [
       "<div>\n",
       "<style scoped>\n",
       "    .dataframe tbody tr th:only-of-type {\n",
       "        vertical-align: middle;\n",
       "    }\n",
       "\n",
       "    .dataframe tbody tr th {\n",
       "        vertical-align: top;\n",
       "    }\n",
       "\n",
       "    .dataframe thead th {\n",
       "        text-align: right;\n",
       "    }\n",
       "</style>\n",
       "<table border=\"1\" class=\"dataframe\">\n",
       "  <thead>\n",
       "    <tr style=\"text-align: right;\">\n",
       "      <th></th>\n",
       "      <th>0</th>\n",
       "      <th>1</th>\n",
       "      <th>2</th>\n",
       "      <th>3</th>\n",
       "      <th>4</th>\n",
       "      <th>5</th>\n",
       "      <th>6</th>\n",
       "      <th>7</th>\n",
       "      <th>8</th>\n",
       "      <th>9</th>\n",
       "      <th>...</th>\n",
       "      <th>91</th>\n",
       "      <th>92</th>\n",
       "      <th>93</th>\n",
       "      <th>94</th>\n",
       "      <th>95</th>\n",
       "      <th>96</th>\n",
       "      <th>97</th>\n",
       "      <th>98</th>\n",
       "      <th>99</th>\n",
       "      <th>100</th>\n",
       "    </tr>\n",
       "  </thead>\n",
       "  <tbody>\n",
       "    <tr>\n",
       "      <th>0</th>\n",
       "      <td>0.000000</td>\n",
       "      <td>4.983091</td>\n",
       "      <td>3.769339</td>\n",
       "      <td>5.594828</td>\n",
       "      <td>6.429803</td>\n",
       "      <td>4.511528</td>\n",
       "      <td>6.706383</td>\n",
       "      <td>2.911751</td>\n",
       "      <td>-2.864652</td>\n",
       "      <td>-3.093433</td>\n",
       "      <td>...</td>\n",
       "      <td>6.667738</td>\n",
       "      <td>5.885562</td>\n",
       "      <td>-2.052453</td>\n",
       "      <td>-2.984045</td>\n",
       "      <td>5.750429</td>\n",
       "      <td>2.135754</td>\n",
       "      <td>-1.234049</td>\n",
       "      <td>3.500585</td>\n",
       "      <td>3.206284</td>\n",
       "      <td>-2.015092</td>\n",
       "    </tr>\n",
       "    <tr>\n",
       "      <th>1</th>\n",
       "      <td>0.002002</td>\n",
       "      <td>3.614394</td>\n",
       "      <td>2.396633</td>\n",
       "      <td>4.225133</td>\n",
       "      <td>5.058559</td>\n",
       "      <td>3.141485</td>\n",
       "      <td>5.346220</td>\n",
       "      <td>1.538843</td>\n",
       "      <td>-4.236502</td>\n",
       "      <td>-4.464649</td>\n",
       "      <td>...</td>\n",
       "      <td>5.312463</td>\n",
       "      <td>4.525002</td>\n",
       "      <td>-3.410375</td>\n",
       "      <td>-4.346935</td>\n",
       "      <td>4.396159</td>\n",
       "      <td>0.773647</td>\n",
       "      <td>-2.607035</td>\n",
       "      <td>2.130640</td>\n",
       "      <td>1.840478</td>\n",
       "      <td>-3.376963</td>\n",
       "    </tr>\n",
       "    <tr>\n",
       "      <th>2</th>\n",
       "      <td>0.004004</td>\n",
       "      <td>4.188195</td>\n",
       "      <td>2.966396</td>\n",
       "      <td>4.797931</td>\n",
       "      <td>5.629813</td>\n",
       "      <td>3.713902</td>\n",
       "      <td>5.928572</td>\n",
       "      <td>2.108423</td>\n",
       "      <td>-3.665847</td>\n",
       "      <td>-3.893386</td>\n",
       "      <td>...</td>\n",
       "      <td>5.899704</td>\n",
       "      <td>5.106895</td>\n",
       "      <td>-2.825807</td>\n",
       "      <td>-3.767381</td>\n",
       "      <td>4.984377</td>\n",
       "      <td>1.354042</td>\n",
       "      <td>-2.037531</td>\n",
       "      <td>2.703165</td>\n",
       "      <td>2.417138</td>\n",
       "      <td>-2.796368</td>\n",
       "    </tr>\n",
       "    <tr>\n",
       "      <th>3</th>\n",
       "      <td>0.006006</td>\n",
       "      <td>5.445592</td>\n",
       "      <td>4.219727</td>\n",
       "      <td>6.054320</td>\n",
       "      <td>6.884664</td>\n",
       "      <td>4.969878</td>\n",
       "      <td>7.194535</td>\n",
       "      <td>3.361588</td>\n",
       "      <td>-2.411586</td>\n",
       "      <td>-2.638543</td>\n",
       "      <td>...</td>\n",
       "      <td>7.170558</td>\n",
       "      <td>6.372337</td>\n",
       "      <td>-1.557653</td>\n",
       "      <td>-2.504284</td>\n",
       "      <td>6.256181</td>\n",
       "      <td>2.618039</td>\n",
       "      <td>-0.784438</td>\n",
       "      <td>3.959257</td>\n",
       "      <td>3.677362</td>\n",
       "      <td>-1.532206</td>\n",
       "    </tr>\n",
       "    <tr>\n",
       "      <th>4</th>\n",
       "      <td>0.008008</td>\n",
       "      <td>5.067521</td>\n",
       "      <td>3.837561</td>\n",
       "      <td>5.675236</td>\n",
       "      <td>6.504048</td>\n",
       "      <td>4.590350</td>\n",
       "      <td>6.825046</td>\n",
       "      <td>2.979275</td>\n",
       "      <td>-2.792786</td>\n",
       "      <td>-3.019186</td>\n",
       "      <td>...</td>\n",
       "      <td>6.805961</td>\n",
       "      <td>6.002265</td>\n",
       "      <td>-1.924977</td>\n",
       "      <td>-2.876709</td>\n",
       "      <td>5.892506</td>\n",
       "      <td>2.246572</td>\n",
       "      <td>-1.166821</td>\n",
       "      <td>3.579851</td>\n",
       "      <td>3.302087</td>\n",
       "      <td>-1.903542</td>\n",
       "    </tr>\n",
       "    <tr>\n",
       "      <th>...</th>\n",
       "      <td>...</td>\n",
       "      <td>...</td>\n",
       "      <td>...</td>\n",
       "      <td>...</td>\n",
       "      <td>...</td>\n",
       "      <td>...</td>\n",
       "      <td>...</td>\n",
       "      <td>...</td>\n",
       "      <td>...</td>\n",
       "      <td>...</td>\n",
       "      <td>...</td>\n",
       "      <td>...</td>\n",
       "      <td>...</td>\n",
       "      <td>...</td>\n",
       "      <td>...</td>\n",
       "      <td>...</td>\n",
       "      <td>...</td>\n",
       "      <td>...</td>\n",
       "      <td>...</td>\n",
       "      <td>...</td>\n",
       "      <td>...</td>\n",
       "    </tr>\n",
       "    <tr>\n",
       "      <th>995</th>\n",
       "      <td>1.991992</td>\n",
       "      <td>-37.621743</td>\n",
       "      <td>-26.216957</td>\n",
       "      <td>2.179613</td>\n",
       "      <td>34.525805</td>\n",
       "      <td>-81.587062</td>\n",
       "      <td>44.262737</td>\n",
       "      <td>22.788572</td>\n",
       "      <td>58.082286</td>\n",
       "      <td>-69.526880</td>\n",
       "      <td>...</td>\n",
       "      <td>-57.907315</td>\n",
       "      <td>-30.282534</td>\n",
       "      <td>2.509291</td>\n",
       "      <td>-114.436776</td>\n",
       "      <td>14.101042</td>\n",
       "      <td>109.678623</td>\n",
       "      <td>11.649459</td>\n",
       "      <td>0.666863</td>\n",
       "      <td>27.882475</td>\n",
       "      <td>93.843512</td>\n",
       "    </tr>\n",
       "    <tr>\n",
       "      <th>996</th>\n",
       "      <td>1.993994</td>\n",
       "      <td>-38.413531</td>\n",
       "      <td>-26.940495</td>\n",
       "      <td>1.526510</td>\n",
       "      <td>34.067619</td>\n",
       "      <td>-82.481098</td>\n",
       "      <td>43.789529</td>\n",
       "      <td>22.302350</td>\n",
       "      <td>57.727557</td>\n",
       "      <td>-70.383159</td>\n",
       "      <td>...</td>\n",
       "      <td>-58.823098</td>\n",
       "      <td>-31.021199</td>\n",
       "      <td>1.898045</td>\n",
       "      <td>-115.441524</td>\n",
       "      <td>13.503160</td>\n",
       "      <td>109.438779</td>\n",
       "      <td>11.124500</td>\n",
       "      <td>0.086051</td>\n",
       "      <td>27.430621</td>\n",
       "      <td>93.598580</td>\n",
       "    </tr>\n",
       "    <tr>\n",
       "      <th>997</th>\n",
       "      <td>1.995996</td>\n",
       "      <td>-38.302053</td>\n",
       "      <td>-26.760562</td>\n",
       "      <td>1.777022</td>\n",
       "      <td>34.513839</td>\n",
       "      <td>-82.472001</td>\n",
       "      <td>44.220604</td>\n",
       "      <td>22.720442</td>\n",
       "      <td>58.277463</td>\n",
       "      <td>-70.336305</td>\n",
       "      <td>...</td>\n",
       "      <td>-58.835998</td>\n",
       "      <td>-30.856352</td>\n",
       "      <td>2.190637</td>\n",
       "      <td>-115.543472</td>\n",
       "      <td>13.809172</td>\n",
       "      <td>110.103751</td>\n",
       "      <td>11.503708</td>\n",
       "      <td>0.409258</td>\n",
       "      <td>27.883253</td>\n",
       "      <td>94.258542</td>\n",
       "    </tr>\n",
       "    <tr>\n",
       "      <th>998</th>\n",
       "      <td>1.997998</td>\n",
       "      <td>-39.725567</td>\n",
       "      <td>-28.115414</td>\n",
       "      <td>0.492894</td>\n",
       "      <td>33.426211</td>\n",
       "      <td>-83.998028</td>\n",
       "      <td>43.117706</td>\n",
       "      <td>21.604596</td>\n",
       "      <td>57.293749</td>\n",
       "      <td>-71.824574</td>\n",
       "      <td>...</td>\n",
       "      <td>-60.384272</td>\n",
       "      <td>-32.226251</td>\n",
       "      <td>0.948811</td>\n",
       "      <td>-117.180880</td>\n",
       "      <td>12.580823</td>\n",
       "      <td>109.235287</td>\n",
       "      <td>10.348831</td>\n",
       "      <td>-0.801770</td>\n",
       "      <td>26.802116</td>\n",
       "      <td>93.385145</td>\n",
       "    </tr>\n",
       "    <tr>\n",
       "      <th>999</th>\n",
       "      <td>2.000000</td>\n",
       "      <td>-39.118378</td>\n",
       "      <td>-27.439358</td>\n",
       "      <td>1.239819</td>\n",
       "      <td>34.370429</td>\n",
       "      <td>-83.493487</td>\n",
       "      <td>44.046532</td>\n",
       "      <td>22.520505</td>\n",
       "      <td>58.342113</td>\n",
       "      <td>-71.282274</td>\n",
       "      <td>...</td>\n",
       "      <td>-59.902228</td>\n",
       "      <td>-31.565200</td>\n",
       "      <td>1.738263</td>\n",
       "      <td>-116.788054</td>\n",
       "      <td>13.383808</td>\n",
       "      <td>110.399081</td>\n",
       "      <td>11.225562</td>\n",
       "      <td>0.018661</td>\n",
       "      <td>27.752907</td>\n",
       "      <td>94.544086</td>\n",
       "    </tr>\n",
       "  </tbody>\n",
       "</table>\n",
       "<p>1000 rows × 101 columns</p>\n",
       "</div>"
      ],
      "text/plain": [
       "          0          1          2         3          4          5    \\\n",
       "0    0.000000   4.983091   3.769339  5.594828   6.429803   4.511528   \n",
       "1    0.002002   3.614394   2.396633  4.225133   5.058559   3.141485   \n",
       "2    0.004004   4.188195   2.966396  4.797931   5.629813   3.713902   \n",
       "3    0.006006   5.445592   4.219727  6.054320   6.884664   4.969878   \n",
       "4    0.008008   5.067521   3.837561  5.675236   6.504048   4.590350   \n",
       "..        ...        ...        ...       ...        ...        ...   \n",
       "995  1.991992 -37.621743 -26.216957  2.179613  34.525805 -81.587062   \n",
       "996  1.993994 -38.413531 -26.940495  1.526510  34.067619 -82.481098   \n",
       "997  1.995996 -38.302053 -26.760562  1.777022  34.513839 -82.472001   \n",
       "998  1.997998 -39.725567 -28.115414  0.492894  33.426211 -83.998028   \n",
       "999  2.000000 -39.118378 -27.439358  1.239819  34.370429 -83.493487   \n",
       "\n",
       "           6          7          8          9    ...        91         92   \\\n",
       "0     6.706383   2.911751  -2.864652  -3.093433  ...   6.667738   5.885562   \n",
       "1     5.346220   1.538843  -4.236502  -4.464649  ...   5.312463   4.525002   \n",
       "2     5.928572   2.108423  -3.665847  -3.893386  ...   5.899704   5.106895   \n",
       "3     7.194535   3.361588  -2.411586  -2.638543  ...   7.170558   6.372337   \n",
       "4     6.825046   2.979275  -2.792786  -3.019186  ...   6.805961   6.002265   \n",
       "..         ...        ...        ...        ...  ...        ...        ...   \n",
       "995  44.262737  22.788572  58.082286 -69.526880  ... -57.907315 -30.282534   \n",
       "996  43.789529  22.302350  57.727557 -70.383159  ... -58.823098 -31.021199   \n",
       "997  44.220604  22.720442  58.277463 -70.336305  ... -58.835998 -30.856352   \n",
       "998  43.117706  21.604596  57.293749 -71.824574  ... -60.384272 -32.226251   \n",
       "999  44.046532  22.520505  58.342113 -71.282274  ... -59.902228 -31.565200   \n",
       "\n",
       "          93          94         95          96         97        98   \\\n",
       "0   -2.052453   -2.984045   5.750429    2.135754  -1.234049  3.500585   \n",
       "1   -3.410375   -4.346935   4.396159    0.773647  -2.607035  2.130640   \n",
       "2   -2.825807   -3.767381   4.984377    1.354042  -2.037531  2.703165   \n",
       "3   -1.557653   -2.504284   6.256181    2.618039  -0.784438  3.959257   \n",
       "4   -1.924977   -2.876709   5.892506    2.246572  -1.166821  3.579851   \n",
       "..        ...         ...        ...         ...        ...       ...   \n",
       "995  2.509291 -114.436776  14.101042  109.678623  11.649459  0.666863   \n",
       "996  1.898045 -115.441524  13.503160  109.438779  11.124500  0.086051   \n",
       "997  2.190637 -115.543472  13.809172  110.103751  11.503708  0.409258   \n",
       "998  0.948811 -117.180880  12.580823  109.235287  10.348831 -0.801770   \n",
       "999  1.738263 -116.788054  13.383808  110.399081  11.225562  0.018661   \n",
       "\n",
       "           99         100  \n",
       "0     3.206284  -2.015092  \n",
       "1     1.840478  -3.376963  \n",
       "2     2.417138  -2.796368  \n",
       "3     3.677362  -1.532206  \n",
       "4     3.302087  -1.903542  \n",
       "..         ...        ...  \n",
       "995  27.882475  93.843512  \n",
       "996  27.430621  93.598580  \n",
       "997  27.883253  94.258542  \n",
       "998  26.802116  93.385145  \n",
       "999  27.752907  94.544086  \n",
       "\n",
       "[1000 rows x 101 columns]"
      ]
     },
     "execution_count": 20,
     "metadata": {},
     "output_type": "execute_result"
    }
   ],
   "source": [
    "import pandas as pd\n",
    "data = pd.read_excel(\"E01-RegresionLineal.xlsx\")\n",
    "data"
   ]
  },
  {
   "cell_type": "code",
   "execution_count": 21,
   "id": "feb405d3",
   "metadata": {},
   "outputs": [],
   "source": [
    "x = data[0].values\n",
    "y = data[72].values"
   ]
  },
  {
   "cell_type": "code",
   "execution_count": null,
   "id": "fa67533a",
   "metadata": {},
   "outputs": [],
   "source": []
  },
  {
   "cell_type": "markdown",
   "id": "8714fbd7",
   "metadata": {},
   "source": [
    "1. Ajuste los datos con polinomios de grados 1, 3, y 5. Muestre los errores de forma gráfica. ¿Qué polinomio se ajusta mejor?"
   ]
  },
  {
   "cell_type": "code",
   "execution_count": 22,
   "id": "027ba631",
   "metadata": {},
   "outputs": [
    {
     "data": {
      "image/png": "[encoded data removed]",
      "text/plain": [
       "<Figure size 640x480 with 1 Axes>"
      ]
     },
     "metadata": {},
     "output_type": "display_data"
    }
   ],
   "source": [
    "from sklearn.linear_model import LinearRegression\n",
    "from sklearn.preprocessing import PolynomialFeatures\n",
    "import matplotlib.pyplot as plt\n",
    "\n",
    "grados = [1, 2, 5]\n",
    "modelos = {}\n",
    "\n",
    "for grado in grados:\n",
    "    poly = PolynomialFeatures(degree = grado)\n",
    "    X_poly = poly.fit_transform(x.reshape(-1, 1))\n",
    "    modelo = LinearRegression()\n",
    "    modelo.fit(X_poly, y)\n",
    "    \n",
    "    Nacimientos_pred = modelo.predict(X_poly)\n",
    "    plt.plot(x, Nacimientos_pred, label=f'Grado {grado}')\n",
    "    \n",
    "    if grado == 1:\n",
    "        X_poly_simple = X_poly[:, 1:]\n",
    "\n",
    "plt.xlabel('x')\n",
    "plt.ylabel('y')\n",
    "plt.legend()\n",
    "plt.show()"
   ]
  },
  {
   "cell_type": "code",
   "execution_count": 23,
   "id": "867c7c09",
   "metadata": {},
   "outputs": [],
   "source": [
    "import scipy.optimize as opt\n",
    "import numpy as np\n",
    "start = min(data[72])\n",
    "x = np.array(data[0]) - start\n",
    "y = np.array(data[72])\n",
    "\n",
    "# y = b0 + b1*x\n",
    "\n",
    "m = len(y)\n",
    "beta = np.random.rand(2)\n",
    "ones = np.ones([m, 1])\n",
    "x_factor = np.reshape(x, [m, 1])\n",
    "X = np.hstack( (ones, x_factor) )\n",
    "y_vector = np.reshape(y, [m, 1])\n",
    "\n",
    "# y = b0 + b1*x + b2*x**2\n",
    "beta2 = np.random.rand(3)\n",
    "x2_factor = np.reshape(x**2, [m, 1])\n",
    "X2 = np.hstack( (ones, x_factor, x2_factor) )\n",
    "\n",
    "\n",
    "# y = b0 + b1*x + b2*x**3\n",
    "beta3 = np.random.rand(4)\n",
    "x3_factor = np.reshape(x**3, [m, 1])\n",
    "X3 = np.hstack( (ones, x_factor, x2_factor, x3_factor) )\n",
    "\n",
    "# y = b0 + b1*x + b2*x**3\n",
    "beta4 = np.random.rand(5)\n",
    "x4_factor = np.reshape(x**4, [m, 1])\n",
    "X4 = np.hstack( (ones, x_factor, x2_factor, x3_factor, x4_factor) )\n",
    "\n",
    "# y = b0 + b1*x + b2*x**3\n",
    "beta5 = np.random.rand(6)\n",
    "x5_factor = np.reshape(x**5, [m, 1])\n",
    "X5 = np.hstack( (ones, x_factor, x2_factor, x3_factor, x4_factor, x5_factor) )\n",
    "\n",
    "# y = b0 + b1*x + b2*x**3\n",
    "beta6 = np.random.rand(4)\n",
    "x6_factor = np.reshape(x**3, [m, 1])\n",
    "X6 = np.hstack( (ones, x_factor, x2_factor, x3_factor, x4_factor, x5_factor, x6_factor) )\n",
    "\n",
    "def funcion_de_costo(beta, X, y) :\n",
    "    m, n = X.shape\n",
    "    beta = np.reshape(beta, [n, 1])\n",
    "    y_pred = X @ beta\n",
    "    error = y_pred - y\n",
    "    return (error.T @ error)[0][0]"
   ]
  },
  {
   "cell_type": "code",
   "execution_count": 24,
   "id": "02c63d5b",
   "metadata": {},
   "outputs": [],
   "source": [
    "sol1 = opt.minimize(funcion_de_costo, beta, args=(X, y_vector))\n",
    "sol3 = opt.minimize(funcion_de_costo, beta3, args=(X3, y_vector))\n",
    "sol5 = opt.minimize(funcion_de_costo, beta5, args=(X5, y_vector))"
   ]
  },
  {
   "cell_type": "code",
   "execution_count": 25,
   "id": "23e9b99a",
   "metadata": {},
   "outputs": [
    {
     "data": {
      "text/plain": [
       "  message: Desired error not necessarily achieved due to precision loss.\n",
       "  success: False\n",
       "   status: 2\n",
       "      fun: 38217.11378805164\n",
       "        x: [ 5.578e+02 -1.439e+01]\n",
       "      nit: 7\n",
       "      jac: [ 3.418e-03  1.538e-01]\n",
       " hess_inv: [[ 2.108e+00 -5.392e-02]\n",
       "            [-5.392e-02  1.380e-03]]\n",
       "     nfev: 120\n",
       "     njev: 36"
      ]
     },
     "execution_count": 25,
     "metadata": {},
     "output_type": "execute_result"
    }
   ],
   "source": [
    "sol1"
   ]
  },
  {
   "cell_type": "code",
   "execution_count": 26,
   "id": "3cb31538",
   "metadata": {},
   "outputs": [
    {
     "data": {
      "text/plain": [
       "  message: Desired error not necessarily achieved due to precision loss.\n",
       "  success: False\n",
       "   status: 2\n",
       "      fun: 4553.83436913573\n",
       "        x: [ 3.357e+03 -1.082e+03  4.921e+01 -6.066e-01]\n",
       "      nit: 12\n",
       "      jac: [ 6.839e+01  1.717e+03  2.944e+04 -2.857e+05]\n",
       " hess_inv: [[ 1.085e+00  7.900e-01 -4.247e-02  5.512e-04]\n",
       "            [ 7.900e-01  7.924e+00 -4.067e-01  5.204e-03]\n",
       "            [-4.247e-02 -4.067e-01  2.088e-02 -2.672e-04]\n",
       "            [ 5.512e-04  5.204e-03 -2.672e-04  3.419e-06]]\n",
       "     nfev: 297\n",
       "     njev: 57"
      ]
     },
     "execution_count": 26,
     "metadata": {},
     "output_type": "execute_result"
    }
   ],
   "source": [
    "sol3"
   ]
  },
  {
   "cell_type": "code",
   "execution_count": 27,
   "id": "b8c5493e",
   "metadata": {},
   "outputs": [
    {
     "data": {
      "text/plain": [
       "  message: Desired error not necessarily achieved due to precision loss.\n",
       "  success: False\n",
       "   status: 2\n",
       "      fun: 2201816843.2982974\n",
       "        x: [ 2.216e+03 -3.742e+03  7.429e+03 -6.202e+02  1.736e+01\n",
       "            -1.609e-01]\n",
       "      nit: 29\n",
       "      jac: [-3.594e+05 -1.253e+07 -4.310e+08 -1.457e+10 -4.813e+11\n",
       "            -1.527e+13]\n",
       " hess_inv: [[ 2.108e-04  1.873e-03 ... -4.081e-06  3.030e-08]\n",
       "            [ 1.873e-03  1.679e-02 ... -3.597e-05  2.639e-07]\n",
       "            ...\n",
       "            [-4.081e-06 -3.597e-05 ...  8.022e-08 -6.056e-10]\n",
       "            [ 3.030e-08  2.639e-07 ... -6.056e-10  4.661e-12]]\n",
       "     nfev: 522\n",
       "     njev: 73"
      ]
     },
     "execution_count": 27,
     "metadata": {},
     "output_type": "execute_result"
    }
   ],
   "source": [
    "sol5"
   ]
  },
  {
   "cell_type": "code",
   "execution_count": null,
   "id": "120cf536",
   "metadata": {},
   "outputs": [],
   "source": []
  },
  {
   "cell_type": "code",
   "execution_count": null,
   "id": "fa1e9ce1",
   "metadata": {},
   "outputs": [],
   "source": []
  },
  {
   "cell_type": "markdown",
   "id": "59862478",
   "metadata": {},
   "source": [
    "2. Muestre en un gráfico los datos y el polinomio que mejor se ajuste."
   ]
  },
  {
   "cell_type": "code",
   "execution_count": 28,
   "id": "27387213",
   "metadata": {},
   "outputs": [
    {
     "data": {
      "text/plain": [
       "<matplotlib.legend.Legend at 0x2489bf1d550>"
      ]
     },
     "execution_count": 28,
     "metadata": {},
     "output_type": "execute_result"
    },
    {
     "data": {
      "image/png": "[encoded data removed]",
      "text/plain": [
       "<Figure size 640x480 with 1 Axes>"
      ]
     },
     "metadata": {},
     "output_type": "display_data"
    }
   ],
   "source": [
    "plt.figure()\n",
    "plt.grid()\n",
    "plt.scatter(x, y)\n",
    "plt.plot(x, X @ np.reshape(sol1.x, [2, 1]), \"m\" ,label=\"Lineal\")\n",
    "plt.plot(x, X3 @ np.reshape(sol3.x, [4, 1]), \"k\", label=\"Cúbica\")\n",
    "plt.plot(x, X5 @ np.reshape(sol5.x, [6, 1]), \"y\", label=\"Cúbica\")\n",
    "plt.legend(loc = \"best\")"
   ]
  },
  {
   "cell_type": "code",
   "execution_count": 29,
   "id": "f4097aa4",
   "metadata": {},
   "outputs": [
    {
     "data": {
      "text/plain": [
       "<BarContainer object of 3 artists>"
      ]
     },
     "execution_count": 29,
     "metadata": {},
     "output_type": "execute_result"
    },
    {
     "data": {
      "image/png": "[encoded data removed]",
      "text/plain": [
       "<Figure size 640x480 with 1 Axes>"
      ]
     },
     "metadata": {},
     "output_type": "display_data"
    }
   ],
   "source": [
    "plt.figure()\n",
    "plt.bar([1, 2, 3], [sol1.fun, sol3.fun, sol5.fun])"
   ]
  },
  {
   "cell_type": "code",
   "execution_count": 30,
   "id": "a8cfef44",
   "metadata": {},
   "outputs": [
    {
     "data": {
      "text/plain": [
       "<matplotlib.legend.Legend at 0x2489c0204d0>"
      ]
     },
     "execution_count": 30,
     "metadata": {},
     "output_type": "execute_result"
    },
    {
     "data": {
      "image/png": "[encoded data removed]",
      "text/plain": [
       "<Figure size 640x480 with 1 Axes>"
      ]
     },
     "metadata": {},
     "output_type": "display_data"
    }
   ],
   "source": [
    "plt.figure()\n",
    "plt.grid()\n",
    "plt.scatter(x, y)\n",
    "plt.plot(x, X3 @ np.reshape(sol3.x, [4, 1]), \"k\", label=\"Cúbica\")\n",
    "plt.legend(loc = \"best\")"
   ]
  },
  {
   "cell_type": "markdown",
   "id": "238f342a",
   "metadata": {},
   "source": [
    "3. Use el modelo para averiguar el valor de $y$ cuando:\n",
    "- $x=0.001$\n",
    "- $x=-0.1$\n",
    "- $x=2.1$"
   ]
  },
  {
   "cell_type": "code",
   "execution_count": 31,
   "id": "82706e4e",
   "metadata": {},
   "outputs": [],
   "source": [
    "def f(x):\n",
    "    return 3.264 + 2.592*x - 13.0*x**2 + 12.72*x**3"
   ]
  },
  {
   "cell_type": "code",
   "execution_count": 32,
   "id": "b5d4cfe7",
   "metadata": {},
   "outputs": [
    {
     "data": {
      "text/plain": [
       "3.26657901272"
      ]
     },
     "execution_count": 32,
     "metadata": {},
     "output_type": "execute_result"
    }
   ],
   "source": [
    "f(0.001)"
   ]
  },
  {
   "cell_type": "code",
   "execution_count": 33,
   "id": "51beb7c1",
   "metadata": {
    "scrolled": true
   },
   "outputs": [
    {
     "data": {
      "text/plain": [
       "2.86208"
      ]
     },
     "execution_count": 33,
     "metadata": {},
     "output_type": "execute_result"
    }
   ],
   "source": [
    "f(-0.1)"
   ]
  },
  {
   "cell_type": "code",
   "execution_count": 34,
   "id": "a36eb468",
   "metadata": {},
   "outputs": [
    {
     "data": {
      "text/plain": [
       "69.17712000000002"
      ]
     },
     "execution_count": 34,
     "metadata": {},
     "output_type": "execute_result"
    }
   ],
   "source": [
    "f(2.1)"
   ]
  },
  {
   "cell_type": "markdown",
   "id": "4af77457",
   "metadata": {},
   "source": [
    "4. ¿Qué diferencias encuentra en cuanto a la interpolación y la extrapolación?"
   ]
  },
  {
   "cell_type": "markdown",
   "id": "2e5066df",
   "metadata": {},
   "source": [
    "En la extrapolación ($x=2.1$), efectivamente arroja un valor mas alto, respetanto la curva a la alza. En la interpolación, también arroja un resultado que se ve en el promedio del los datos para esa zona por lo que se puede concluír que las predicciones estan cerca de los datos reales."
   ]
  },
  {
   "cell_type": "markdown",
   "id": "7f451519",
   "metadata": {},
   "source": []
  },
  {
   "cell_type": "markdown",
   "id": "fc693d0d",
   "metadata": {},
   "source": []
  },
  {
   "cell_type": "markdown",
   "id": "3ff8002f",
   "metadata": {},
   "source": [
    "5. Agregue un factor $\\cos{(10x)}$ a su modelo y grafique los resultados. ¿Mejoró el resultado?"
   ]
  },
  {
   "cell_type": "code",
   "execution_count": 35,
   "id": "28b1f9ef",
   "metadata": {},
   "outputs": [
    {
     "data": {
      "text/plain": [
       "<matplotlib.legend.Legend at 0x2489c0ab190>"
      ]
     },
     "execution_count": 35,
     "metadata": {},
     "output_type": "execute_result"
    },
    {
     "data": {
      "image/png": "[encoded data removed]",
      "text/plain": [
       "<Figure size 640x480 with 1 Axes>"
      ]
     },
     "metadata": {},
     "output_type": "display_data"
    }
   ],
   "source": [
    "def f(x):\n",
    "    return 3.264 + 2.592*x - 13.0*x**2 + 12.72*x**3 + np.cos(10*x)\n",
    "\n",
    "plt.figure()\n",
    "plt.grid()\n",
    "plt.scatter(x, y,)\n",
    "plt.plot(x, f(x), \"y\", label=\"Con cos(10x)\")\n",
    "plt.plot(x, X3 @ np.reshape(sol3.x, [4, 1]), \"k\", label=\"Cúbica\")\n",
    "plt.legend(loc = \"best\")"
   ]
  },
  {
   "cell_type": "code",
   "execution_count": 36,
   "id": "011525b0",
   "metadata": {},
   "outputs": [
    {
     "data": {
      "text/plain": [
       "4.266529013136665"
      ]
     },
     "execution_count": 36,
     "metadata": {},
     "output_type": "execute_result"
    }
   ],
   "source": [
    "f(0.001)"
   ]
  },
  {
   "cell_type": "code",
   "execution_count": 37,
   "id": "b6cc448d",
   "metadata": {},
   "outputs": [
    {
     "data": {
      "text/plain": [
       "3.40238230586814"
      ]
     },
     "execution_count": 37,
     "metadata": {},
     "output_type": "execute_result"
    }
   ],
   "source": [
    "f(-0.1)"
   ]
  },
  {
   "cell_type": "code",
   "execution_count": 38,
   "id": "93fd5324",
   "metadata": {},
   "outputs": [
    {
     "data": {
      "text/plain": [
       "68.62939073977574"
      ]
     },
     "execution_count": 38,
     "metadata": {},
     "output_type": "execute_result"
    }
   ],
   "source": [
    "f(2.1)"
   ]
  },
  {
   "cell_type": "code",
   "execution_count": null,
   "id": "25ec3620",
   "metadata": {},
   "outputs": [],
   "source": []
  }
 ],
 "metadata": {
  "kernelspec": {
   "display_name": "Python 3 (ipykernel)",
   "language": "python",
   "name": "python3"
  },
  "language_info": {
   "codemirror_mode": {
    "name": "ipython",
    "version": 3
   },
   "file_extension": ".py",
   "mimetype": "text/x-python",
   "name": "python",
   "nbconvert_exporter": "python",
   "pygments_lexer": "ipython3",
   "version": "3.11.4"
  }
 },
 "nbformat": 4,
 "nbformat_minor": 5
}
