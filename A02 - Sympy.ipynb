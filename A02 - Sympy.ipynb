{
 "cells": [
  {
   "cell_type": "markdown",
   "metadata": {},
   "source": [
    "# Ejercicios de optimización escalar"
   ]
  },
  {
   "cell_type": "markdown",
   "metadata": {},
   "source": [
    "**Para la siguientes funciones encuentre los puntos críticos, grafique y diga si éste se trata de un máximo o mínimo, local o global.**"
   ]
  },
  {
   "cell_type": "markdown",
   "metadata": {},
   "source": [
    "$f(x)=1260+117x-9x^2$"
   ]
  },
  {
   "cell_type": "code",
   "execution_count": 2,
   "metadata": {},
   "outputs": [
    {
     "data": {
      "text/plain": [
       "[13/18]"
      ]
     },
     "execution_count": 2,
     "metadata": {},
     "output_type": "execute_result"
    }
   ],
   "source": [
    "import sympy as sp\n",
    "import numpy as np\n",
    "\n",
    "sp.var(\"x\")\n",
    "\n",
    "# Definir función\n",
    "def f(x):\n",
    "    return 1260 + 117*x - (9*x)**2\n",
    "# Derivamos\n",
    "df = sp.diff(f(x),x)\n",
    "\n",
    "# Resolvemos igualando a cero \n",
    "pc = sp.solve(df,x)\n",
    "pc "
   ]
  },
  {
   "cell_type": "code",
   "execution_count": 7,
   "metadata": {},
   "outputs": [
    {
     "name": "stdout",
     "output_type": "stream",
     "text": [
      "El punto critico se encuentra en 13/18 y es un máximo\n"
     ]
    }
   ],
   "source": [
    "df1= sp.diff(df,x)\n",
    "df1\n",
    "crit_2da_derivada=df1.subs(x,pc[0])\n",
    "\n",
    "if crit_2da_derivada < 0:\n",
    "    print(\"El punto critico se encuentra en \" + str(pc[0])+ \" y es un máximo\")\n",
    "elif crit_2da_derivada > 0:\n",
    "    print(\"El punto critico se encuentra en \" + str(pc[0])+ \" y es un mínimo\")\n",
    "else:\n",
    "    print(\"El punto critico se encuentra en \" + str(pc[0])+ \" y no se puede definir por criterio de la segunda derivada\")\n"
   ]
  },
  {
   "cell_type": "code",
   "execution_count": 10,
   "metadata": {},
   "outputs": [
    {
     "data": {
      "text/plain": [
       "[<matplotlib.lines.Line2D at 0x1b4741b2450>]"
      ]
     },
     "execution_count": 10,
     "metadata": {},
     "output_type": "execute_result"
    },
    {
     "data": {
      "image/png": "[encoded data removed]",
      "text/plain": [
       "<Figure size 640x480 with 1 Axes>"
      ]
     },
     "metadata": {},
     "output_type": "display_data"
    }
   ],
   "source": [
    "import matplotlib.pyplot as plt\n",
    "%matplotlib inline\n",
    "\n",
    "xn = np.linspace(0,4)\n",
    "\n",
    "plt.figure()\n",
    "plt.plot(xn,f(xn))\n",
    "plt.plot(pc[0], f(pc[0]), \"r*\", ms=10)"
   ]
  },
  {
   "cell_type": "code",
   "execution_count": null,
   "metadata": {},
   "outputs": [],
   "source": []
  },
  {
   "cell_type": "markdown",
   "metadata": {},
   "source": [
    "$f(x)=5+x+\\frac{4}{x}$, para $x>0$"
   ]
  },
  {
   "cell_type": "code",
   "execution_count": 14,
   "metadata": {},
   "outputs": [
    {
     "data": {
      "text/plain": [
       "[-2, 2]"
      ]
     },
     "execution_count": 14,
     "metadata": {},
     "output_type": "execute_result"
    }
   ],
   "source": [
    "import sympy as sp\n",
    "import numpy as np\n",
    "\n",
    "sp.var(\"x\")\n",
    "\n",
    "# Definir función\n",
    "def f(x):\n",
    "    return 5 + x + (4/x)\n",
    "# Derivamos\n",
    "df = sp.diff(f(x),x)\n",
    "\n",
    "# Resolvemos igualando a cero \n",
    "pc = sp.solve(df,x)\n",
    "pc "
   ]
  },
  {
   "cell_type": "code",
   "execution_count": 15,
   "metadata": {},
   "outputs": [
    {
     "name": "stdout",
     "output_type": "stream",
     "text": [
      "El punto critico se encuentra en -2 y es un máximo\n"
     ]
    }
   ],
   "source": [
    "df1= sp.diff(df,x)\n",
    "df1\n",
    "crit_2da_derivada=df1.subs(x,pc[0])\n",
    "\n",
    "if crit_2da_derivada < 0:\n",
    "    print(\"El punto critico se encuentra en \" + str(pc[0])+ \" y es un máximo\")\n",
    "elif crit_2da_derivada > 0:\n",
    "    print(\"El punto critico se encuentra en \" + str(pc[0])+ \" y es un mínimo\")\n",
    "else:\n",
    "    print(\"El punto critico se encuentra en \" + str(pc[0])+ \" y no se puede definir por criterio de la segunda derivada\")"
   ]
  },
  {
   "cell_type": "code",
   "execution_count": null,
   "metadata": {},
   "outputs": [],
   "source": []
  },
  {
   "cell_type": "code",
   "execution_count": null,
   "metadata": {},
   "outputs": [],
   "source": []
  },
  {
   "cell_type": "markdown",
   "metadata": {},
   "source": [
    "$f(x)=6-2x+\\sqrt{18-2x^2}$, para $-3\\leq x\\leq 3$"
   ]
  },
  {
   "cell_type": "code",
   "execution_count": 18,
   "metadata": {},
   "outputs": [
    {
     "data": {
      "text/plain": [
       "[-1.50000000000000]"
      ]
     },
     "execution_count": 18,
     "metadata": {},
     "output_type": "execute_result"
    }
   ],
   "source": [
    "import sympy as sp\n",
    "import numpy as np\n",
    "\n",
    "sp.var(\"x\")\n",
    "\n",
    "# Definir función\n",
    "def f(x):\n",
    "    return 6 - 2*x +(18-(2*x)**2)**0.5\n",
    "# Derivamos\n",
    "df = sp.diff(f(x),x)\n",
    "\n",
    "# Resolvemos igualando a cero \n",
    "pc = sp.solve(df,x)\n",
    "pc "
   ]
  },
  {
   "cell_type": "code",
   "execution_count": 21,
   "metadata": {},
   "outputs": [
    {
     "name": "stdout",
     "output_type": "stream",
     "text": [
      "El punto critico se encuentra en -1.50000000000000 y es un máximo\n"
     ]
    }
   ],
   "source": [
    "dg= sp.diff(f(x),x)\n",
    "pc = sp.solve(dg,x)\n",
    "ddg= sp.diff(dg,x)\n",
    "crit_2da_derivada=ddg.subs(x,pc[0])\n",
    "\n",
    "if crit_2da_derivada < 0:\n",
    "    print(\"El punto critico se encuentra en \" + str(pc[0])+ \" y es un máximo\")\n",
    "elif crit_2da_derivada > 0:\n",
    "    print(\"El punto critico se encuentra en \" + str(pc[0])+ \" y es un mínimo\")\n",
    "else:\n",
    "    print(\"El punto critico se encuentra en \" + str(pc[0])+ \" y no se puede definir por criterio de la segunda derivada\")\n"
   ]
  },
  {
   "cell_type": "code",
   "execution_count": null,
   "metadata": {},
   "outputs": [],
   "source": []
  },
  {
   "cell_type": "code",
   "execution_count": null,
   "metadata": {},
   "outputs": [],
   "source": []
  },
  {
   "cell_type": "markdown",
   "metadata": {},
   "source": [
    "$f(x)=\\frac{1}{4}x^4+\\frac{1}{3}x^3-x^2$ en el intervalo $[-3,1.7]$"
   ]
  },
  {
   "cell_type": "code",
   "execution_count": 27,
   "metadata": {},
   "outputs": [
    {
     "data": {
      "text/plain": [
       "[-2.00000000000000, 0.0, 1.00000000000000]"
      ]
     },
     "execution_count": 27,
     "metadata": {},
     "output_type": "execute_result"
    }
   ],
   "source": [
    "import sympy as sp\n",
    "import numpy as np\n",
    "\n",
    "sp.var(\"x\")\n",
    "\n",
    "# Definir función\n",
    "def f(x):\n",
    "    return ((1/4)*x**4+ (1/3)*x**3 - x**2)\n",
    "# Derivamos\n",
    "df = sp.diff(f(x),x)\n",
    "\n",
    "# Resolvemos igualando a cero \n",
    "pc = sp.solve(df,x)\n",
    "pc "
   ]
  },
  {
   "cell_type": "code",
   "execution_count": 28,
   "metadata": {},
   "outputs": [
    {
     "name": "stdout",
     "output_type": "stream",
     "text": [
      "El punto critico se encuentra en -2.00000000000000 y es un mínimo\n"
     ]
    }
   ],
   "source": [
    "df1= sp.diff(df,x)\n",
    "df1\n",
    "crit_2da_derivada=df1.subs(x,pc[0])\n",
    "\n",
    "if crit_2da_derivada < 0:\n",
    "    print(\"El punto critico se encuentra en \" + str(pc[0])+ \" y es un máximo\")\n",
    "elif crit_2da_derivada > 0:\n",
    "    print(\"El punto critico se encuentra en \" + str(pc[0])+ \" y es un mínimo\")\n",
    "else:\n",
    "    print(\"El punto critico se encuentra en \" + str(pc[0])+ \" y no se puede definir por criterio de la segunda derivada\")"
   ]
  },
  {
   "cell_type": "code",
   "execution_count": null,
   "metadata": {},
   "outputs": [],
   "source": []
  },
  {
   "cell_type": "code",
   "execution_count": null,
   "metadata": {},
   "outputs": [],
   "source": []
  },
  {
   "cell_type": "markdown",
   "metadata": {},
   "source": [
    "---\n",
    "**Resuelva los siguientes problemas usando la librería `SymPy`. Use celdas en `Markdown` para explicar su procedimiento.**"
   ]
  },
  {
   "cell_type": "markdown",
   "metadata": {},
   "source": [
    "El perímetro de un triángulo isósceles es de $10 cm$. ¿Cuánto deben medir sus lados para que el volumen del cuerpo generado por la rotación del triángulo en torno a su base sea el mayor posible? (Volumen de un cono $= \\frac{1}{3}\\pi r^2 h$, donde $r$ es el radio de la base y $h$ la altura del cono)."
   ]
  },
  {
   "cell_type": "code",
   "execution_count": null,
   "metadata": {},
   "outputs": [],
   "source": []
  },
  {
   "cell_type": "code",
   "execution_count": null,
   "metadata": {},
   "outputs": [],
   "source": []
  },
  {
   "cell_type": "code",
   "execution_count": null,
   "metadata": {},
   "outputs": [],
   "source": []
  },
  {
   "cell_type": "code",
   "execution_count": null,
   "metadata": {},
   "outputs": [],
   "source": []
  },
  {
   "cell_type": "code",
   "execution_count": null,
   "metadata": {},
   "outputs": [],
   "source": []
  },
  {
   "cell_type": "markdown",
   "metadata": {},
   "source": [
    "Disponemos de una barra de aluminio de 6 metros para construir una portería de fútbol. Si queremos que el área de la portería sea máxima, ¿cuánto deben medir los postes y el travesaño?"
   ]
  },
  {
   "cell_type": "code",
   "execution_count": null,
   "metadata": {},
   "outputs": [],
   "source": []
  },
  {
   "cell_type": "code",
   "execution_count": null,
   "metadata": {},
   "outputs": [],
   "source": []
  },
  {
   "cell_type": "code",
   "execution_count": null,
   "metadata": {},
   "outputs": [],
   "source": []
  },
  {
   "cell_type": "code",
   "execution_count": null,
   "metadata": {},
   "outputs": [],
   "source": []
  },
  {
   "cell_type": "code",
   "execution_count": null,
   "metadata": {},
   "outputs": [],
   "source": []
  }
 ],
 "metadata": {
  "kernelspec": {
   "display_name": "Python 3 (ipykernel)",
   "language": "python",
   "name": "python3"
  },
  "language_info": {
   "codemirror_mode": {
    "name": "ipython",
    "version": 3
   },
   "file_extension": ".py",
   "mimetype": "text/x-python",
   "name": "python",
   "nbconvert_exporter": "python",
   "pygments_lexer": "ipython3",
   "version": "3.11.4"
  }
 },
 "nbformat": 4,
 "nbformat_minor": 2
}
