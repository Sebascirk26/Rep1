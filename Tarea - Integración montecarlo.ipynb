{
 "cells": [
  {
   "cell_type": "markdown",
   "metadata": {},
   "source": [
    "# TAREA"
   ]
  },
  {
   "cell_type": "markdown",
   "metadata": {},
   "source": [
    "## Integración Montecarlo"
   ]
  },
  {
   "cell_type": "markdown",
   "metadata": {},
   "source": [
    "1. Realizar las siguientes integrales. Poner los resultados en una tabla cuyas filas correspondan a la cantidad de términos utilizados en la aproximación (usar 10, 100, 1000, 10000 y 100000 términos) y cuyas columnas correspondan a las funciones.\n",
    "    + $\\int_{1}^{3} e^{x}\\log(x)\\text{d}x$.\n",
    "    + $\\int_1^3 \\sin(x)\\ln(x) \\text{d}x$"
   ]
  },
  {
   "cell_type": "code",
   "execution_count": 2,
   "metadata": {},
   "outputs": [
    {
     "data": {
      "text/plain": [
       "6.089944186313396"
      ]
     },
     "execution_count": 2,
     "metadata": {},
     "output_type": "execute_result"
    }
   ],
   "source": [
    "import numpy as np\n",
    "\n",
    "def f1(x):\n",
    "    return (np.exp(x))*(np.log10(x))\n",
    "xa=1\n",
    "xb=3\n",
    "N=10000000\n",
    "u= np.random.uniform(a,b,N)  #Cualquier valor dentro del intervalo dado tiene posibilidad de salir ()\n",
    "np.mean(f1(u))*(b-a)\n",
    "#u[0], f(u[0])\n",
    "#np.mean(u) #mean (media) promedio\n"
   ]
  },
  {
   "cell_type": "code",
   "execution_count": 4,
   "metadata": {},
   "outputs": [
    {
     "data": {
      "text/plain": [
       "0.8696658888537824"
      ]
     },
     "execution_count": 4,
     "metadata": {},
     "output_type": "execute_result"
    }
   ],
   "source": [
    "import numpy as np\n",
    "\n",
    "def f2(x):\n",
    "    return np.sin(x)* np.log(x)\n",
    "ya=1\n",
    "yb=3\n",
    "N=10000000\n",
    "u= np.random.uniform(a,b,N)  #Cualquier valor dentro del intervalo dado tiene posibilidad de salir ()\n",
    "np.mean(f2(u))*(b-a)\n",
    "#u[0], f(u[0])\n",
    "#np.mean(u) #mean (media) promedio"
   ]
  },
  {
   "cell_type": "code",
   "execution_count": 7,
   "metadata": {},
   "outputs": [
    {
     "data": {
      "text/html": [
       "<div>\n",
       "<style scoped>\n",
       "    .dataframe tbody tr th:only-of-type {\n",
       "        vertical-align: middle;\n",
       "    }\n",
       "\n",
       "    .dataframe tbody tr th {\n",
       "        vertical-align: top;\n",
       "    }\n",
       "\n",
       "    .dataframe thead th {\n",
       "        text-align: right;\n",
       "    }\n",
       "</style>\n",
       "<table border=\"1\" class=\"dataframe\">\n",
       "  <thead>\n",
       "    <tr style=\"text-align: right;\">\n",
       "      <th></th>\n",
       "      <th>Aproximación f1(x)</th>\n",
       "      <th>Error f1(x)</th>\n",
       "      <th>Aproximación f2(x)</th>\n",
       "      <th>Error f2(x)</th>\n",
       "    </tr>\n",
       "  </thead>\n",
       "  <tbody>\n",
       "    <tr>\n",
       "      <th>10.0</th>\n",
       "      <td>7.945917</td>\n",
       "      <td>1.853847</td>\n",
       "      <td>0.859315</td>\n",
       "      <td>0.010529</td>\n",
       "    </tr>\n",
       "    <tr>\n",
       "      <th>100.0</th>\n",
       "      <td>5.788254</td>\n",
       "      <td>0.303816</td>\n",
       "      <td>0.907596</td>\n",
       "      <td>0.037752</td>\n",
       "    </tr>\n",
       "    <tr>\n",
       "      <th>1000.0</th>\n",
       "      <td>6.114673</td>\n",
       "      <td>0.022603</td>\n",
       "      <td>0.860046</td>\n",
       "      <td>0.009798</td>\n",
       "    </tr>\n",
       "    <tr>\n",
       "      <th>10000.0</th>\n",
       "      <td>6.134554</td>\n",
       "      <td>0.042484</td>\n",
       "      <td>0.866658</td>\n",
       "      <td>0.003186</td>\n",
       "    </tr>\n",
       "    <tr>\n",
       "      <th>100000.0</th>\n",
       "      <td>6.094157</td>\n",
       "      <td>0.002087</td>\n",
       "      <td>0.870967</td>\n",
       "      <td>0.001123</td>\n",
       "    </tr>\n",
       "  </tbody>\n",
       "</table>\n",
       "</div>"
      ],
      "text/plain": [
       "          Aproximación f1(x)  Error f1(x)  Aproximación f2(x)  Error f2(x)\n",
       "10.0                7.945917     1.853847            0.859315     0.010529\n",
       "100.0               5.788254     0.303816            0.907596     0.037752\n",
       "1000.0              6.114673     0.022603            0.860046     0.009798\n",
       "10000.0             6.134554     0.042484            0.866658     0.003186\n",
       "100000.0            6.094157     0.002087            0.870967     0.001123"
      ]
     },
     "execution_count": 7,
     "metadata": {},
     "output_type": "execute_result"
    }
   ],
   "source": [
    "a = 1\n",
    "b = 3\n",
    "N = np.logspace(1, 5, 5)\n",
    "table = pd.DataFrame(columns=[], index=N)\n",
    "\n",
    "\n",
    "def montecarlo(f, N, a, b):\n",
    "    u = np.random.uniform(a, b, N)\n",
    "    media = np.mean(f(u))\n",
    "    return media*(b-a)\n",
    "\n",
    "\n",
    "for i in N:\n",
    "    aprox1 = montecarlo(f1, int(i), a, b)\n",
    "    aprox2 = montecarlo(f2, int(i), a, b)\n",
    "    table.loc[i, \"Aproximación f1(x)\"] =  aprox1\n",
    "    table.loc[i, \"Error f1(x)\"] = abs(6.09207 - aprox1)\n",
    "    table.loc[i, \"Aproximación f2(x)\"] =  aprox2\n",
    "    table.loc[i, \"Error f2(x)\"] = abs(0.869844 - aprox2)\n",
    "\n",
    "table"
   ]
  },
  {
   "cell_type": "markdown",
   "metadata": {},
   "source": [
    "2. Aproximar el área de la región descrita por\n",
    "\n",
    "$$x^2+2y^2\\leq-2x+8y-7$$\n",
    "\n",
    "Poner los resultados en una tabla cuyas filas correspondan a la cantidad de términos utilizados en la aproximación (usar 10, 100, 1000, 10000 y 100000 términos) y en las columnas el valor de aproximación y el error relativo.\n",
    "\n",
    "Definir unos límites adecuados $a_1$, $b_1$, $a_2$ y $b_2$, para la región $R=\\left[a_1,b_1\\right]\\times\\left[a_2,b_2\\right]$"
   ]
  },
  {
   "cell_type": "code",
   "execution_count": 6,
   "metadata": {},
   "outputs": [
    {
     "data": {
      "text/plain": [
       "<matplotlib.collections.PathCollection at 0x17d831d2cd0>"
      ]
     },
     "execution_count": 6,
     "metadata": {},
     "output_type": "execute_result"
    },
    {
     "data": {
      "image/png": "[encoded data removed]",
      "text/plain": [
       "<Figure size 640x480 with 1 Axes>"
      ]
     },
     "metadata": {},
     "output_type": "display_data"
    }
   ],
   "source": [
    "import pandas as pd\n",
    "import matplotlib.pyplot as plt\n",
    "%matplotlib inline\n",
    "\n",
    "def bernoulli (x, y):\n",
    "    return x**2 + 2*y**2 <= - 2*x + 8*y - 7\n",
    "\n",
    "x = np.random.uniform(-2.5, 0.5, 700)\n",
    "y = np.random.uniform(0.9, 3.1, 700)\n",
    "\n",
    "X, Y = np.meshgrid(x, y)\n",
    "plt.figure()\n",
    "plt.scatter(X, Y, s=1, c=bernoulli(X,Y), cmap=\"Reds\")"
   ]
  },
  {
   "cell_type": "code",
   "execution_count": 13,
   "metadata": {},
   "outputs": [
    {
     "data": {
      "text/html": [
       "<div>\n",
       "<style scoped>\n",
       "    .dataframe tbody tr th:only-of-type {\n",
       "        vertical-align: middle;\n",
       "    }\n",
       "\n",
       "    .dataframe tbody tr th {\n",
       "        vertical-align: top;\n",
       "    }\n",
       "\n",
       "    .dataframe thead th {\n",
       "        text-align: right;\n",
       "    }\n",
       "</style>\n",
       "<table border=\"1\" class=\"dataframe\">\n",
       "  <thead>\n",
       "    <tr style=\"text-align: right;\">\n",
       "      <th></th>\n",
       "      <th>Aproximación</th>\n",
       "      <th>Error Relativo</th>\n",
       "    </tr>\n",
       "  </thead>\n",
       "  <tbody>\n",
       "    <tr>\n",
       "      <th>10.0</th>\n",
       "      <td>5.28</td>\n",
       "      <td>-0.80103</td>\n",
       "    </tr>\n",
       "    <tr>\n",
       "      <th>100.0</th>\n",
       "      <td>4.356</td>\n",
       "      <td>-1.144033</td>\n",
       "    </tr>\n",
       "    <tr>\n",
       "      <th>1000.0</th>\n",
       "      <td>4.4154</td>\n",
       "      <td>-1.652799</td>\n",
       "    </tr>\n",
       "    <tr>\n",
       "      <th>10000.0</th>\n",
       "      <td>4.41342</td>\n",
       "      <td>-2.152505</td>\n",
       "    </tr>\n",
       "    <tr>\n",
       "      <th>100000.0</th>\n",
       "      <td>4.418106</td>\n",
       "      <td>-2.653201</td>\n",
       "    </tr>\n",
       "  </tbody>\n",
       "</table>\n",
       "</div>"
      ],
      "text/plain": [
       "         Aproximación Error Relativo\n",
       "10.0             5.28       -0.80103\n",
       "100.0           4.356      -1.144033\n",
       "1000.0         4.4154      -1.652799\n",
       "10000.0       4.41342      -2.152505\n",
       "100000.0     4.418106      -2.653201"
      ]
     },
     "execution_count": 13,
     "metadata": {},
     "output_type": "execute_result"
    }
   ],
   "source": [
    "def montecarlo(region, xa, xb, ya, yb, N):\n",
    "    x = np.random.uniform(xa, xb, N)\n",
    "    y = np.random.uniform(ya, yb, N)\n",
    "    B = region(x, y)\n",
    "    AR = (xb - xa) * (yb - ya)\n",
    "    return np.mean(B) * AR\n",
    "\n",
    "\n",
    "N = np.logspace(1, 5, 5)\n",
    "\n",
    "table = pd.DataFrame(columns=[\"Aproximación\", \"Error Relativo\"], index=N)\n",
    "\n",
    "for i in N:\n",
    "    AR = (0.5 + 2.5) * (3.1 - 0.9)\n",
    "    AD = montecarlo(bernoulli, -2.5, 0.5, 0.9, 3.1, int(i))\n",
    "    C_rel = ((1 - (AD / AR))/(AD / AR))**(1/2)\n",
    "    error = np.log10(C_rel) - ((1/2)*np.log10(i))\n",
    "    \n",
    "    table.loc[i, \"Aproximación\"] =  AD\n",
    "    table.loc[i, \"Error Relativo\"] = error\n",
    "\n",
    "table"
   ]
  },
  {
   "cell_type": "code",
   "execution_count": null,
   "metadata": {},
   "outputs": [],
   "source": []
  },
  {
   "cell_type": "markdown",
   "metadata": {},
   "source": [
    "3. Describe 3 casos de uso de integración Montecarlo en tu ingeniería."
   ]
  },
  {
   "cell_type": "markdown",
   "metadata": {},
   "source": [
    "### Ingeniería en Nanotecnología"
   ]
  },
  {
   "cell_type": "markdown",
   "metadata": {},
   "source": [
    "En ingeniería en nanotecnología, se puede usar para modelar fenómenos físicos, químicos o biológicos a escala nanométrica, como el transporte de electrones, la difusión de moléculas o la interacción de nanopartículas"
   ]
  },
  {
   "cell_type": "markdown",
   "metadata": {},
   "source": [
    "- Simulaciones de propiedades electromagnéticas: La integración de Monte Carlo se utiliza para simular y estudiar las propiedades electromagnéticas de nanoestructuras. Por ejemplo, se pueden realizar cálculos de absorción y dispersión de luz en nanopartículas metálicas para determinar sus aplicaciones en dispositivos optoelectrónicos."
   ]
  },
  {
   "cell_type": "markdown",
   "metadata": {},
   "source": [
    "- Caracterización de materiales a escala nanométrica: La integración de Monte Carlo es útil para la caracterización de propiedades físicas de materiales a escala nanométrica, como su conductividad térmica y eléctrica. Estas simulaciones proporcionan información sobre el comportamiento de los materiales en condiciones extremas y su viabilidad para su uso en aplicaciones nanotecnológicas"
   ]
  },
  {
   "cell_type": "markdown",
   "metadata": {},
   "source": [
    "- Simulación de procesos químicos y reacciones en nanoescala: La integración de Monte Carlo se aplica en el estudio de reacciones químicas y procesos de adsorción y desorción de moléculas en superficies y nanoestructuras. Estas simulaciones permiten comprender los mecanismos de reacción y la cinética de procesos químicos a nivel nanométrico, lo que es útil para el diseño de catalizadores y sensores más eficientes."
   ]
  },
  {
   "cell_type": "code",
   "execution_count": null,
   "metadata": {},
   "outputs": [],
   "source": []
  }
 ],
 "metadata": {
  "kernelspec": {
   "display_name": "Python 3 (ipykernel)",
   "language": "python",
   "name": "python3"
  },
  "language_info": {
   "codemirror_mode": {
    "name": "ipython",
    "version": 3
   },
   "file_extension": ".py",
   "mimetype": "text/x-python",
   "name": "python",
   "nbconvert_exporter": "python",
   "pygments_lexer": "ipython3",
   "version": "3.11.4"
  }
 },
 "nbformat": 4,
 "nbformat_minor": 2
}
